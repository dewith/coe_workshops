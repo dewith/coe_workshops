{
 "cells": [
  {
   "cell_type": "markdown",
   "metadata": {},
   "source": [
    "```html\n",
    "   _____                                  ______      ______\n",
    "  / ___/__  ______ ___  ____     __/|_   / ____/___  / ____/\n",
    "  \\__ \\/ / / / __ `__ \\/_  /    |    /  / /   / __ \\/ __/   \n",
    " ___/ / /_/ / / / / / / / /_   /_ __|  / /___/ /_/ / /___   \n",
    "/____/\\__,_/_/ /_/ /_/ /___/    |/     \\____/\\____/_____/     \n",
    "```"
   ]
  },
  {
   "cell_type": "markdown",
   "metadata": {},
   "source": [
    "# 👋 Hola, Python\n",
    "\n",
    "Python es un lenguaje de programación de alto nivel, interpretado, de propósito general y orientado a objetos. Fue creado por Guido van Rossum en 1991 y actualmente es uno de los lenguajes más populares del mundo. El nombre del lenguaje proviene de la afición de su creador por los humoristas británicos Monty Python.\n",
    "\n",
    "La razón por la que Python es tan popular es porque es un lenguaje muy fácil de aprender, con una sintaxis muy sencilla y que permite escribir programas con muy pocas líneas de código. Además, es un lenguaje muy versátil, ya que se puede utilizar para desarrollar casi cualquier tipo de software: aplicaciones de escritorio, aplicaciones web, aplicaciones móviles, IoT, scripts, análisis de datos e inteligencia artificial.\n",
    "\n",
    "En este taller, vamos a aprender algunos conceptos claves de Python y cómo podemos utilizarlo para programar 𝒸𝑜𝓃 𝑒𝓈𝓉𝒾𝓁𝑜 ✨"
   ]
  },
  {
   "cell_type": "code",
   "execution_count": 18,
   "metadata": {},
   "outputs": [
    {
     "name": "stdout",
     "output_type": "stream",
     "text": [
      "El costo total es: 2.5\n"
     ]
    }
   ],
   "source": [
    "# Declaración de variables\n",
    "numero_de_manzanas = 5\n",
    "precio_por_manzana = 0.50\n",
    "\n",
    "# Uso de operadores aritméticos\n",
    "costo_total = numero_de_manzanas * precio_por_manzana\n",
    "\n",
    "# Mostrar el resultado\n",
    "print(\"El costo total es:\", costo_total)"
   ]
  },
  {
   "cell_type": "markdown",
   "metadata": {},
   "source": [
    "- Variables y operadores\n",
    "  - Buenos nombres\n",
    "- Funciones\n",
    "  - Obteniendo ayuda\n",
    "  - Pequeñas, responsabilidades únicas y sin efectos secundarios\n",
    "  - Docstrings\n",
    "- Booleanos y condicionales\n",
    "- Listas y ciclos\n",
    "  - List comprehension\n",
    "  - Iteradores y generadores\n",
    "- Objeto y clases\n",
    "  - Métodos\n",
    "  - Herencia\n",
    "- Paquetes y módulos\n",
    "  - Instalando paquetes\n",
    "  - Creando paquetes\n",
    "  - Wheels\n",
    "  - Ambientes virtuales\n",
    "- Estilo \n",
    "  - KISS\n",
    "  - DRY\n",
    "  - YAGNI\n",
    "  - PEP8"
   ]
  },
  {
   "cell_type": "markdown",
   "metadata": {},
   "source": [
    "# 🛟 Pidiendo ayuda\n",
    "\n",
    "Cuando estés programando, es muy probable que te encuentres con errores. No te preocupes, es algo normal y le pasa a todo el mundo. Lo importante es que sepas cómo solucionarlos. \n",
    "\n",
    "Cuando pase eso, la función `help()` será tu mejor aliado (a parte de Google, y ChatGPT, y Barreto).\n",
    "\n",
    "Aquí un ejemplo:"
   ]
  },
  {
   "cell_type": "code",
   "execution_count": 8,
   "metadata": {},
   "outputs": [
    {
     "name": "stdout",
     "output_type": "stream",
     "text": [
      "Help on built-in function round in module builtins:\n",
      "\n",
      "round(number, ndigits=None)\n",
      "    Round a number to a given precision in decimal digits.\n",
      "    \n",
      "    The return value is an integer if ndigits is omitted or None.  Otherwise\n",
      "    the return value has the same type as the number.  ndigits may be negative.\n",
      "\n"
     ]
    }
   ],
   "source": [
    "help(round)"
   ]
  },
  {
   "cell_type": "markdown",
   "metadata": {},
   "source": [
    "`help()` muestra dos cosas:\n",
    "\n",
    "1. La cabecera de esa función `round(number, ndigits=None)`. En este caso, esto nos dice que `round()` toma un argumento que podemos describir como number. Además, podemos dar opcionalmente un argumento separado que podríamos describir como ndigits.\n",
    "2. Una breve descripción en inglés de lo que hace la función.\n",
    "\n",
    "**Error común:** cuando busques una función, recuerda pasar el nombre de la función en sí, y no el resultado de llamar a esa función.\n",
    "\n"
   ]
  },
  {
   "cell_type": "code",
   "execution_count": 20,
   "metadata": {},
   "outputs": [
    {
     "data": {
      "text/plain": [
       "0"
      ]
     },
     "execution_count": 20,
     "metadata": {},
     "output_type": "execute_result"
    }
   ],
   "source": [
    "6%2"
   ]
  },
  {
   "cell_type": "markdown",
   "metadata": {},
   "source": [
    "# 🔧 Definiendo funciones"
   ]
  },
  {
   "cell_type": "markdown",
   "metadata": {},
   "source": [
    "Una función es un bloque de código que sólo corre cuando es llamado."
   ]
  },
  {
   "cell_type": "code",
   "execution_count": 9,
   "metadata": {},
   "outputs": [],
   "source": [
    "def par_o_impar(numero):\n",
    "    if numero%2 == 0:\n",
    "        print('Es par')\n",
    "    else:\n",
    "        print('Es impar')"
   ]
  },
  {
   "cell_type": "markdown",
   "metadata": {},
   "source": [
    "Nota que si ejecutamos la celda no ocurre nada apreciable. Si llamamos a la función"
   ]
  },
  {
   "cell_type": "code",
   "execution_count": 10,
   "metadata": {},
   "outputs": [
    {
     "data": {
      "text/plain": [
       "<function __main__.par_o_impar(numero)>"
      ]
     },
     "execution_count": 10,
     "metadata": {},
     "output_type": "execute_result"
    }
   ],
   "source": [
    "par_o_impar"
   ]
  },
  {
   "cell_type": "markdown",
   "metadata": {},
   "source": [
    "Python nos dice, de una forma no muy clara, que se trata de una función. Las funciones se llaman con paréntesis:"
   ]
  },
  {
   "cell_type": "code",
   "execution_count": 11,
   "metadata": {},
   "outputs": [
    {
     "name": "stdout",
     "output_type": "stream",
     "text": [
      "Es impar\n"
     ]
    }
   ],
   "source": [
    "par_o_impar(1)"
   ]
  },
  {
   "cell_type": "markdown",
   "metadata": {},
   "source": [
    "Y en este caso, arroja un error porque falta un argumento, `numero`. Las dos siguientes son equivalentes:"
   ]
  },
  {
   "cell_type": "code",
   "execution_count": 12,
   "metadata": {},
   "outputs": [
    {
     "name": "stdout",
     "output_type": "stream",
     "text": [
      "Es impar\n",
      "Es par\n"
     ]
    }
   ],
   "source": [
    "par_o_impar(numero=9)\n",
    "par_o_impar(10)"
   ]
  },
  {
   "cell_type": "markdown",
   "metadata": {},
   "source": [
    "Al tener un solo argumento, en este caso no hay mucho lugar a confusión, pero las funciones pueden tener muchos argumentos:"
   ]
  },
  {
   "cell_type": "code",
   "execution_count": 13,
   "metadata": {},
   "outputs": [],
   "source": [
    "def division(dividendo, divisor):\n",
    "    print(dividendo/divisor)"
   ]
  },
  {
   "cell_type": "markdown",
   "metadata": {},
   "source": [
    "Entonces podemos llamar a la función pasándole los argumentos en orden, o explicitando el valor de cada argumento:"
   ]
  },
  {
   "cell_type": "code",
   "execution_count": 14,
   "metadata": {},
   "outputs": [
    {
     "name": "stdout",
     "output_type": "stream",
     "text": [
      "2.0\n",
      "2.0\n"
     ]
    }
   ],
   "source": [
    "division(4,2)\n",
    "# Nota que asi no nos tenemos que preocupar por el orden\n",
    "division(divisor=2, dividendo=4)  "
   ]
  },
  {
   "cell_type": "markdown",
   "metadata": {},
   "source": [
    "También, pueden tener argumentos *por default*, que si no explicitamos, toman un valor predefinido:"
   ]
  },
  {
   "cell_type": "code",
   "execution_count": 16,
   "metadata": {},
   "outputs": [],
   "source": [
    "def division(dividendo, divisor=2):\n",
    "    print(dividendo/divisor)"
   ]
  },
  {
   "cell_type": "code",
   "execution_count": 17,
   "metadata": {},
   "outputs": [
    {
     "name": "stdout",
     "output_type": "stream",
     "text": [
      "4.5\n",
      "3.0\n",
      "3.0\n",
      "3.0\n"
     ]
    }
   ],
   "source": [
    "division(9)\n",
    "division(9, 3) \n",
    "division(dividendo=9, divisor=3) \n",
    "division(9, divisor=3) "
   ]
  },
  {
   "cell_type": "code",
   "execution_count": null,
   "metadata": {},
   "outputs": [],
   "source": []
  }
 ],
 "metadata": {
  "kernelspec": {
   "display_name": "Python 3",
   "language": "python",
   "name": "python3"
  },
  "language_info": {
   "codemirror_mode": {
    "name": "ipython",
    "version": 3
   },
   "file_extension": ".py",
   "mimetype": "text/x-python",
   "name": "python",
   "nbconvert_exporter": "python",
   "pygments_lexer": "ipython3",
   "version": "3.10.13"
  }
 },
 "nbformat": 4,
 "nbformat_minor": 2
}
