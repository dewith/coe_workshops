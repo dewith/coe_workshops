{
 "cells": [
  {
   "cell_type": "markdown",
   "metadata": {},
   "source": [
    "```html\n",
    "   _____                                  ______      ______\n",
    "  / ___/__  ______ ___  ____     __/|_   / ____/___  / ____/\n",
    "  \\__ \\/ / / / __ `__ \\/_  /    |    /  / /   / __ \\/ __/   \n",
    " ___/ / /_/ / / / / / / / /_   /_ __|  / /___/ /_/ / /___   \n",
    "/____/\\__,_/_/ /_/ /_/ /___/    |/     \\____/\\____/_____/   \n",
    "                                                                                                                         \n",
    "```"
   ]
  },
  {
   "cell_type": "markdown",
   "metadata": {},
   "source": [
    "# 🐍 Python y programar con estilo\n",
    "\n",
    "\n",
    "En este notebook vamos a ver como podemos escribir código Python de forma elegante y eficiente. Este taller es ideal para \n",
    "\n",
    "\n",
    "Para ello vamos a ver los siguientes puntos:\n",
    "- [Programación Orientada a Objetos (POO)](#poo)\n",
    "    - Clases y objetos en Python\n",
    "- [Iteradores vs. Generadores](#iteradores-vs-generadores)\n",
    "- [List comprehensions](#list-comprehension)\n",
    "- [Paquetes y módulos](#paquetes-modulos)\n",
    "    - Empaquetamiento con Wheels\n",
    "- [Estilo y buenas prácticas](#estilo-buenas-practicas)\n",
    "    - PEP8\n",
    "    - Docstrings\n",
    "    - Type Hints\n",
    "    - Linters\n",
    "    - Formateadores\n",
    "- [Ejercicios](#ejercicios)"
   ]
  },
  {
   "cell_type": "markdown",
   "metadata": {},
   "source": [
    "## 📚 Librerías\n",
    "\n",
    "Primero importemos todo lo que necesitaremos para este notebook."
   ]
  },
  {
   "cell_type": "code",
   "execution_count": 6,
   "metadata": {},
   "outputs": [],
   "source": [
    "import os"
   ]
  },
  {
   "cell_type": "markdown",
   "metadata": {},
   "source": [
    "Si tienes errores de importación, instala los paquetes faltantes con `pip install -r requirements.txt`."
   ]
  },
  {
   "cell_type": "markdown",
   "metadata": {},
   "source": [
    "## 🔩 Programación Orientada a Objetos (POO) <a class=\"anchor\" id=\"poo\"></a>"
   ]
  },
  {
   "cell_type": "code",
   "execution_count": null,
   "metadata": {},
   "outputs": [],
   "source": []
  },
  {
   "cell_type": "code",
   "execution_count": null,
   "metadata": {},
   "outputs": [],
   "source": []
  },
  {
   "cell_type": "code",
   "execution_count": null,
   "metadata": {},
   "outputs": [],
   "source": []
  }
 ],
 "metadata": {
  "kernelspec": {
   "display_name": "Python 3",
   "language": "python",
   "name": "python3"
  },
  "language_info": {
   "codemirror_mode": {
    "name": "ipython",
    "version": 3
   },
   "file_extension": ".py",
   "mimetype": "text/x-python",
   "name": "python",
   "nbconvert_exporter": "python",
   "pygments_lexer": "ipython3",
   "version": "3.10.13"
  }
 },
 "nbformat": 4,
 "nbformat_minor": 2
}
