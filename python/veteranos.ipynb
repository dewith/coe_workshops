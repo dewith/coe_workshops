{
 "cells": [
  {
   "cell_type": "markdown",
   "metadata": {},
   "source": [
    "```html\n",
    "   _____                                  ______      ______\n",
    "  / ___/__  ______ ___  ____     __/|_   / ____/___  / ____/\n",
    "  \\__ \\/ / / / __ `__ \\/_  /    |    /  / /   / __ \\/ __/   \n",
    " ___/ / /_/ / / / / / / / /_   /_ __|  / /___/ /_/ / /___   \n",
    "/____/\\__,_/_/ /_/ /_/ /___/    |/     \\____/\\____/_____/     \n",
    "```"
   ]
  },
  {
   "cell_type": "markdown",
   "metadata": {},
   "source": [
    "**Table of contents**<a id='toc0_'></a>    \n",
    "- [👋 Hola de nuevo, Python](#toc1_)    \n",
    "  - [Scopes y Closures](#toc1_1_)    \n",
    "    - [Scopes: Global, Local, Enclosing, Built-in (LEGB)](#toc1_1_1_)    \n",
    "    - [Closures](#toc1_1_2_)    \n",
    "    - [Ejercitación 1](#toc1_1_3_)    \n",
    "  - [Manejo de Excepciones](#toc1_2_)    \n",
    "    - [Bloques try, except, else y finally](#toc1_2_1_)    \n",
    "    - [Excepciones personalizadas](#toc1_2_2_)    \n",
    "    - [Ejercitación 2](#toc1_2_3_)    \n",
    "  - [Manejo de Archivos y Context Managers](#toc1_3_)    \n",
    "    - [Lectura y Escritura de Archivos](#toc1_3_1_)    \n",
    "    - [Manejo de Diferentes Formatos (CSV, JSON, XML)](#toc1_3_2_)    \n",
    "    - [Context Managers y la Declaración with](#toc1_3_3_)    \n",
    "    - [Ejercitación 3](#toc1_3_4_)    \n",
    "  - [Programación Orientada a Objetos Avanzada](#toc1_4_)    \n",
    "    - [Herencia](#toc1_4_1_)    \n",
    "    - [Polimorfismo](#toc1_4_2_)    \n",
    "    - [Métodos de instancia, de clase y estáticos](#toc1_4_3_)    \n",
    "      - [Métodos de instancia](#toc1_4_3_1_)    \n",
    "      - [Métodos de clase (classmethod)](#toc1_4_3_2_)    \n",
    "      - [Métodos estáticos (staticmethod)](#toc1_4_3_3_)    \n",
    "    - [Propiedades](#toc1_4_4_)    \n",
    "    - [Métodos mágicos](#toc1_4_5_)    \n",
    "    - [Ejercitación 4](#toc1_4_6_)    \n",
    "  - [Decoradores](#toc1_5_)    \n",
    "    - [Qué son los Decoradores](#toc1_5_1_)    \n",
    "    - [Creando Decoradores](#toc1_5_2_)    \n",
    "    - [Casos de Uso: Memoización, Logging, Verificación de Permisos](#toc1_5_3_)    \n",
    "    - [Ejercitación 5](#toc1_5_4_)    \n",
    "  - [Generadores y corutinas](#toc1_6_)    \n",
    "    - [Generadores e Iteradores](#toc1_6_1_)    \n",
    "    - [La declaración yield](#toc1_6_2_)    \n",
    "    - [Corutinas y Programación Asíncrona](#toc1_6_3_)    \n",
    "    - [Multi-threading](#toc1_6_4_)    \n",
    "    - [Ejercitación 6](#toc1_6_5_)    \n",
    "  - [Final Boss 🐲](#toc1_7_)    \n",
    "\n",
    "<!-- vscode-jupyter-toc-config\n",
    "\tnumbering=false\n",
    "\tanchor=true\n",
    "\tflat=false\n",
    "\tminLevel=1\n",
    "\tmaxLevel=6\n",
    "\t/vscode-jupyter-toc-config -->\n",
    "<!-- THIS CELL WILL BE REPLACED ON TOC UPDATE. DO NOT WRITE YOUR TEXT IN THIS CELL -->"
   ]
  },
  {
   "cell_type": "markdown",
   "metadata": {},
   "source": [
    "# <a id='toc1_'></a>[👋 Hola de nuevo, Python](#toc0_)\n",
    "\n",
    "<!-- escribe un introducción al notebook donde veremos  partes avanzadas de python -->\n",
    "\n",
    "¡Hola a todos! En este notebook exploraremos algunas partes avanzadas de Python. A medida que avanzamos en nuestro aprendizaje de Python, es importante familiarizarnos con las características más avanzadas del lenguaje que nos permiten escribir código más eficiente, legible y poderoso.\n",
    "\n",
    "A medida que avanzamos, exploraremos ejemplos prácticos y ejercicios para aplicar los conceptos aprendidos. ¡Así que prepárate para llevar sus habilidades de programación en Python al siguiente nivel!\n",
    "\n",
    "¡Comencemos!"
   ]
  },
  {
   "cell_type": "markdown",
   "metadata": {},
   "source": [
    "## <a id='toc1_1_'></a>[Scopes y Closures](#toc0_)"
   ]
  },
  {
   "cell_type": "markdown",
   "metadata": {},
   "source": [
    "### <a id='toc1_1_1_'></a>[Scopes: Global, Local, Enclosing, Built-in (LEGB)](#toc0_)\n",
    "\n",
    "En Python, un scope es una región del programa donde un espacio de nombres es accesible directamente. Un espacio de nombres es una asignación de nombres a objetos. \n",
    "\n",
    "Python tiene una jerarquía de scopes, conocida como la regla LEGB:\n",
    "\n",
    "1. Local (L): El scope interno más cercano, que contiene los nombres definidos dentro de una función.\n",
    "2. Enclosing (E): Los scopes de las funciones encerradoras, de adentro hacia afuera.\n",
    "3. Global (G): El scope superior del módulo actual.\n",
    "4. Built-in (B): El scope de los nombres predefinidos en Python.\n",
    "\n",
    "Cuando se hace referencia a un nombre, Python lo busca en esta jerarquía en el orden LEGB."
   ]
  },
  {
   "cell_type": "code",
   "execution_count": null,
   "metadata": {},
   "outputs": [],
   "source": [
    "x = 10  # Scope global\n",
    "\n",
    "\n",
    "def funcion_externa():\n",
    "    y = 20  # Scope enclosing para funcion_interna\n",
    "\n",
    "    def funcion_interna():\n",
    "        z = 30  # Scope local\n",
    "        # Accede a los scopes global, enclosing y local\n",
    "        print(f\"x: {x}, y: {y}, z: {z}\")\n",
    "\n",
    "    funcion_interna()\n",
    "\n",
    "\n",
    "funcion_externa()"
   ]
  },
  {
   "cell_type": "markdown",
   "metadata": {},
   "source": [
    "En este ejemplo, funcion_interna puede acceder a x del scope global, y del scope enclosing (de funcion_externa), y z de su propio scope local.\n",
    "\n",
    "Si intentas acceder a un nombre que no está definido en ningún scope, obtendrás un error, obvio:"
   ]
  },
  {
   "cell_type": "code",
   "execution_count": null,
   "metadata": {},
   "outputs": [],
   "source": [
    "def funcion():\n",
    "    print(w)  # NameError: el nombre 'w' no está definido\n",
    "\n",
    "\n",
    "funcion()"
   ]
  },
  {
   "cell_type": "markdown",
   "metadata": {},
   "source": [
    "### <a id='toc1_1_2_'></a>[Closures](#toc0_)\n",
    "\n",
    "Una closure es una función que recuerda y accede variables en su scope enclosing, incluso cuando la función es ejecutada en un scope diferente.\n",
    "\n",
    "Veamos un ejemplo:"
   ]
  },
  {
   "cell_type": "code",
   "execution_count": null,
   "metadata": {},
   "outputs": [],
   "source": [
    "def funcion_externa(x):\n",
    "    def funcion_interna(y):\n",
    "        return x + y\n",
    "    return funcion_interna\n",
    "\n",
    "\n",
    "suma_5 = funcion_externa(5)\n",
    "suma_10 = funcion_externa(10)\n",
    "\n",
    "print(suma_5(3))\n",
    "print(suma_10(3))"
   ]
  },
  {
   "cell_type": "markdown",
   "metadata": {},
   "source": [
    "En este ejemplo, `funcion_externa` devuelve `funcion_interna`, que recuerda el valor de `x` de su scope enclosing. Cuando llamamos a `funcion_externa(5)`, obtenemos una función que suma 5 a su argumento. Cuando llamamos a `funcion_externa(10)`, obtenemos una función que suma 10 a su argumento."
   ]
  },
  {
   "cell_type": "markdown",
   "metadata": {},
   "source": [
    "Ahora, veamos un ejemplo más complejo que muestra un comportamiento inesperado con lambdas y for loops debido a la forma en que funcionan los scopes en Python."
   ]
  },
  {
   "cell_type": "code",
   "execution_count": null,
   "metadata": {},
   "outputs": [],
   "source": [
    "def crear_multiplicadores():\n",
    "    multiplicadores = []\n",
    "\n",
    "    for i in range(5):\n",
    "        multiplicadores.append(lambda x: i * x)\n",
    "\n",
    "    return multiplicadores\n",
    "\n",
    "\n",
    "mult_x_0, mult_x_1, mult_x_2, mult_x_3, mult_x_4 = crear_multiplicadores()\n",
    "\n",
    "print(mult_x_0(5))  # Esperaríamos 0, pero obtenemos 20\n",
    "print(mult_x_1(5))  # Esperaríamos 5, pero obtenemos 20\n",
    "print(mult_x_2(5))  # Esperaríamos 10, pero obtenemos 20\n",
    "print(mult_x_3(5))  # Esperaríamos 15, pero obtenemos 20\n",
    "print(mult_x_4(5))  # Esperaríamos 20, y obtenemos 20"
   ]
  },
  {
   "cell_type": "markdown",
   "metadata": {},
   "source": [
    "En este ejemplo, `crear_multiplicadores` crea una lista de funciones lambda, cada una de las cuales debería multiplicar su argumento por un número diferente (0, 1, 2, 3, 4). Sin embargo, cuando llamamos a estas funciones, todas devuelven el mismo resultado: el argumento multiplicado por 4.\n",
    "\n",
    "Esto se debe a cómo funcionan los scopes en Python. Las lambdas no capturan el valor de `i` en el momento en que se definen, sino que todas comparten la misma variable `i` del scope enclosing. Cuando se llaman las lambdas, usan el último valor de `i`, que es 4.\n",
    "\n",
    "Para solucionar este problema, puedes usar un argumento por defecto para la lambda, que se evalúa en el momento en que se define la lambda:"
   ]
  },
  {
   "cell_type": "code",
   "execution_count": null,
   "metadata": {},
   "outputs": [],
   "source": [
    "def crear_multiplicadores():\n",
    "    multiplicadores = []\n",
    "\n",
    "    for i in range(5):\n",
    "        multiplicadores.append(lambda x, i=i: i * x)\n",
    "\n",
    "    return multiplicadores\n",
    "\n",
    "\n",
    "mult_x_0, mult_x_1, mult_x_2, mult_x_3, mult_x_4 = crear_multiplicadores()\n",
    "\n",
    "print(mult_x_0(5)) \n",
    "print(mult_x_1(5)) \n",
    "print(mult_x_2(5)) \n",
    "print(mult_x_3(5)) \n",
    "print(mult_x_4(5)) "
   ]
  },
  {
   "cell_type": "markdown",
   "metadata": {},
   "source": [
    "Este ejemplo muestra cómo los scopes pueden llevar a un comportamiento inesperado si no se entienden completamente. Es importante tener en cuenta cómo funcionan los scopes al usar lambdas, closures y for loops"
   ]
  },
  {
   "cell_type": "markdown",
   "metadata": {},
   "source": [
    "\n",
    "Las closures son útiles para crear funciones con un comportamiento personalizado sin tener que definir una clase. También son fundamentales para conceptos avanzados como decoradores y funciones parciales."
   ]
  },
  {
   "cell_type": "markdown",
   "metadata": {},
   "source": [
    "### <a id='toc1_1_3_'></a>[Ejercitación 1](#toc0_)"
   ]
  },
  {
   "cell_type": "markdown",
   "metadata": {},
   "source": [
    "**Ejercicio 1:** Crea una closure que tome un string y devuelva una función que devuelva ese string concatenado con otro string pasado a la función devuelta."
   ]
  },
  {
   "cell_type": "code",
   "execution_count": null,
   "metadata": {},
   "outputs": [],
   "source": [
    "# COMPLETAR"
   ]
  },
  {
   "cell_type": "markdown",
   "metadata": {},
   "source": [
    "**Ejercicio 2:** Escribe una función que tome un argumento n y devuelva una función que tome un argumento x y devuelva x^n. Usa esta función para crear funciones para el cuadrado y el cubo."
   ]
  },
  {
   "cell_type": "code",
   "execution_count": null,
   "metadata": {},
   "outputs": [],
   "source": [
    "# COMPLETAR"
   ]
  },
  {
   "cell_type": "markdown",
   "metadata": {},
   "source": [
    "## <a id='toc1_2_'></a>[Manejo de Excepciones](#toc0_)"
   ]
  },
  {
   "cell_type": "markdown",
   "metadata": {},
   "source": [
    "Las excepciones son eventos que ocurren durante la ejecución de un programa que interrumpen el flujo normal de las instrucciones. Pueden ser errores, como intentar dividir por cero, o eventos excepcionales, como intentar abrir un archivo que no existe."
   ]
  },
  {
   "cell_type": "markdown",
   "metadata": {},
   "source": [
    "### <a id='toc1_2_1_'></a>[Bloques try, except, else y finally](#toc0_)\n",
    "\n",
    "En Python, usas los bloques try, except, else y finally para manejar excepciones. Aquí te muestro cómo funcionan:"
   ]
  },
  {
   "cell_type": "code",
   "execution_count": null,
   "metadata": {},
   "outputs": [],
   "source": [
    "try:\n",
    "    resultado = 10 / 0  # ¡Oh no, una división por cero!\n",
    "except ZeroDivisionError:\n",
    "    print(\"¡No puedes dividir por cero!\")\n",
    "else:\n",
    "    print(f\"El resultado es: {resultado}\")\n",
    "finally:\n",
    "    print(\"Este bloque siempre se ejecuta.\")"
   ]
  },
  {
   "cell_type": "markdown",
   "metadata": {},
   "source": [
    "- El código en el bloque `try` es donde puede ocurrir una excepción. Si ocurre una excepción, Python busca un bloque `except` que maneje ese tipo de excepción.\n",
    "- Si ocurre una `ZeroDivisionError`, se ejecuta el bloque `except` `ZeroDivisionError`. Puedes especificar diferentes bloques `except` para diferentes tipos de excepciones.\n",
    "- Si no ocurre ninguna excepción, se ejecuta el bloque `else`. Este bloque es opcional.\n",
    "- El bloque `finally` siempre se ejecuta, sin importar si ocurrió una excepción o no. Este bloque también es opcional.\n",
    "\n",
    "\n",
    "🤔 **¡Prueba con otras divisiones y mira el resultado¡** Por ejemplo, puedes cambiar el denominador por un entero diferente a cero o por un string"
   ]
  },
  {
   "cell_type": "markdown",
   "metadata": {},
   "source": [
    "### <a id='toc1_2_2_'></a>[Excepciones personalizadas](#toc0_)\n",
    "\n",
    "Python tiene muchos tipos de excepciones incorporadas, pero a veces puede ser útil crear tus propias excepciones personalizadas. Puedes hacerlo subclasificando la clase Exception o cualquier otra excepción más específica."
   ]
  },
  {
   "cell_type": "code",
   "execution_count": null,
   "metadata": {},
   "outputs": [],
   "source": [
    "class MiError(Exception):\n",
    "    pass\n",
    "\n",
    "\n",
    "def mi_funcion(x):\n",
    "    if x < 0:\n",
    "        raise MiError(\"¡x no puede ser negativo!\")\n",
    "    return x ** 2\n",
    "\n",
    "\n",
    "try:\n",
    "    resultado = mi_funcion(-1)\n",
    "except MiError as e:\n",
    "    print(f\"Ocurrió un error: {str(e)}\")"
   ]
  },
  {
   "cell_type": "markdown",
   "metadata": {},
   "source": [
    "En este ejemplo:\n",
    "\n",
    "- Definimos nuestra propia excepción `MiError` subclasificando `Exception`.\n",
    "- En `mi_funcion`, usamos `raise` para lanzar una instancia de `MiError` si x es negativo.\n",
    "- En el bloque `try`, llamamos a `mi_funcion` con -1, lo que lanza `MiError`.\n",
    "- Capturamos `MiError` en el bloque `except` y imprimimos el mensaje de error.\n",
    "\n",
    "Las excepciones personalizadas te permiten crear una jerarquía de excepciones que se ajuste a las necesidades específicas de tu aplicación. Pueden hacer que tu código sea más legible y fácil de entender.\n",
    "\n",
    "Eso es todo sobre el manejo de excepciones! Ahora tienes el poder de manejar errores y crear tus propias excepciones.\n",
    "\n",
    "Recuerda, es mejor pedir perdón que pedir permiso. En otras palabras, es mejor intentar hacer algo y manejar las excepciones si ocurren, que verificar constantemente si algo puede fallar."
   ]
  },
  {
   "cell_type": "markdown",
   "metadata": {},
   "source": [
    "### <a id='toc1_2_3_'></a>[Ejercitación 2](#toc0_)"
   ]
  },
  {
   "cell_type": "markdown",
   "metadata": {},
   "source": [
    "**Ejercicio 1**: Escribe una función que tome un diccionario y una clave, e imprima el valor asociado con esa clave. Si la clave no existe, captura la excepción KeyError y imprime un mensaje de error amigable."
   ]
  },
  {
   "cell_type": "code",
   "execution_count": null,
   "metadata": {},
   "outputs": [],
   "source": [
    "# COMPLETAR"
   ]
  },
  {
   "cell_type": "markdown",
   "metadata": {},
   "source": [
    "**Ejercicio 2**: Crea una excepción personalizada llamada NegativeNumberError que se lanza cuando se pasa un número negativo a una función que no lo permite. Escribe una función que calcule la raíz cuadrada de un número y use NegativeNumberError para manejar números negativos.\n"
   ]
  },
  {
   "cell_type": "code",
   "execution_count": null,
   "metadata": {},
   "outputs": [],
   "source": [
    "# COMPLETAR"
   ]
  },
  {
   "cell_type": "markdown",
   "metadata": {},
   "source": [
    "## <a id='toc1_3_'></a>[Manejo de Archivos y Context Managers](#toc0_)"
   ]
  },
  {
   "cell_type": "markdown",
   "metadata": {},
   "source": [
    "### <a id='toc1_3_1_'></a>[Lectura y Escritura de Archivos](#toc0_)\n",
    "En Python, puedes usar las funciones `open()`, `read()`, `write()` y `close()` para trabajar con archivos. \n",
    "Aquí tienes un ejemplo básico:"
   ]
  },
  {
   "cell_type": "code",
   "execution_count": null,
   "metadata": {},
   "outputs": [],
   "source": [
    "# Escritura de archivos\n",
    "with open(\"mi_archivo.txt\", \"w\") as archivo:\n",
    "    archivo.write(\"Hola, mundo!\")\n",
    "\n",
    "# Lectura de archivos\n",
    "with open(\"mi_archivo.txt\", \"r\") as archivo:\n",
    "    contenido = archivo.read()\n",
    "    print(contenido)"
   ]
  },
  {
   "cell_type": "markdown",
   "metadata": {},
   "source": [
    "En este ejemplo, primero abrimos un archivo llamado \"`mi_archivo.txt`\" en modo de escritura (\"w\"). Esto crea el archivo si no existe, o lo sobrescribe si ya existe. Luego, escribimos la cadena \"Hola, mundo!\" en el archivo.\n",
    "\n",
    "Después, abrimos el mismo archivo en modo de lectura (\"r\") y leemos su contenido en la variable `contenido`, que luego imprimimos.\n",
    "\n",
    "Es importante cerrar los archivos después de usarlos para liberar recursos del sistema. Pero en lugar de llamar a `close()` manualmente, es mejor usar un context manager con la declaración `with`. Esto asegura que el archivo se cierre automáticamente después de que termine el bloque `with`, incluso si ocurre una excepción. "
   ]
  },
  {
   "cell_type": "markdown",
   "metadata": {},
   "source": [
    "### <a id='toc1_3_2_'></a>[Manejo de Diferentes Formatos (CSV, JSON, XML)](#toc0_)\n",
    "\n",
    "Python tiene bibliotecas integradas para trabajar con muchos formatos de datos comunes como CSV, JSON y XML.\n",
    "\n",
    "Para CSV (Comma Separated Values), puedes usar el módulo csv:"
   ]
  },
  {
   "cell_type": "code",
   "execution_count": null,
   "metadata": {},
   "outputs": [],
   "source": [
    "import csv\n",
    "\n",
    "# Escritura CSV\n",
    "with open(\"datos.csv\", \"w\", newline=\"\") as archivo:\n",
    "    escritor = csv.writer(archivo)\n",
    "    escritor.writerow([\"Nombre\", \"Edad\"])\n",
    "    escritor.writerow([\"Alice\", 30])\n",
    "    escritor.writerow([\"Bob\", 25])\n",
    "\n",
    "# Lectura CSV\n",
    "with open(\"datos.csv\", \"r\") as archivo:\n",
    "    lector = csv.reader(archivo)\n",
    "    for fila in lector:\n",
    "        print(fila)"
   ]
  },
  {
   "cell_type": "markdown",
   "metadata": {},
   "source": [
    "Para JSON (JavaScript Object Notation), puedes usar el módulo json:"
   ]
  },
  {
   "cell_type": "code",
   "execution_count": null,
   "metadata": {},
   "outputs": [],
   "source": [
    "import json\n",
    "\n",
    "# Escritura JSON\n",
    "datos = {\"nombre\": \"Alice\", \"edad\": 30}\n",
    "with open(\"datos.json\", \"w\") as archivo:\n",
    "    json.dump(datos, archivo)\n",
    "\n",
    "# Lectura JSON\n",
    "with open(\"datos.json\", \"r\") as archivo:\n",
    "    datos_cargados = json.load(archivo)\n",
    "    print(datos_cargados)"
   ]
  },
  {
   "cell_type": "markdown",
   "metadata": {},
   "source": [
    "Para XML (eXtensible Markup Language), puedes usar el módulo xml.etree.ElementTree:"
   ]
  },
  {
   "cell_type": "code",
   "execution_count": null,
   "metadata": {},
   "outputs": [],
   "source": [
    "import xml.etree.ElementTree as ET\n",
    "\n",
    "# Escritura XML\n",
    "raiz = ET.Element(\"raiz\")\n",
    "doc = ET.SubElement(raiz, \"doc\")\n",
    "ET.SubElement(doc, \"campo1\").text = \"Valor 1\"\n",
    "ET.SubElement(doc, \"campo2\").text = \"Valor 2\"\n",
    "arbol = ET.ElementTree(raiz)\n",
    "arbol.write(\"datos.xml\")\n",
    "\n",
    "# Lectura XML\n",
    "arbol = ET.parse(\"datos.xml\")\n",
    "raiz = arbol.getroot()\n",
    "for doc in raiz.findall(\"doc\"):\n",
    "    campo1 = doc.find(\"campo1\").text\n",
    "    campo2 = doc.find(\"campo2\").text\n",
    "    print(campo1, campo2)"
   ]
  },
  {
   "cell_type": "markdown",
   "metadata": {},
   "source": [
    "Estos son solo ejemplos básicos, pero cada uno de estos módulos tiene muchas más funcionalidades para manejar casos más complejos."
   ]
  },
  {
   "cell_type": "markdown",
   "metadata": {},
   "source": [
    "### <a id='toc1_3_3_'></a>[Context Managers y la Declaración with](#toc0_)\n",
    "\n",
    "Ya viste un ejemplo de context managers cuando hablamos de abrir y cerrar archivos. Pero los context managers no se limitan a archivos. Puedes usar context managers para manejar cualquier recurso que necesite ser configurado y luego limpiado, como conexiones de red, bloqueos, o transacciones de base de datos. \n",
    "\n",
    "Puedes definir tus propios context managers usando los métodos dunders `__enter__()` y `__exit__()`. Aquí un ejemplo:"
   ]
  },
  {
   "cell_type": "code",
   "execution_count": null,
   "metadata": {},
   "outputs": [],
   "source": [
    "class ManejarRecurso:\n",
    "    def __init__(self, nombre):\n",
    "        self.nombre = nombre\n",
    "\n",
    "    def __enter__(self):\n",
    "        print(f\"Adquiriendo recurso {self.nombre}\")\n",
    "        return self\n",
    "\n",
    "    def __exit__(self, exc_type, exc_value, traceback):\n",
    "        print(f\"Liberando recurso {self.nombre}\")\n",
    "\n",
    "\n",
    "with ManejarRecurso(\"A\") as recurso:\n",
    "    print(f\"Usando recurso {recurso.nombre}\")"
   ]
  },
  {
   "cell_type": "markdown",
   "metadata": {},
   "source": [
    "Cuando se entra en el bloque with, se llama a `__enter__()`. Esta función configura el recurso y devuelve el objeto que se asignará a la variable después de as. Dentro del bloque with, usas el recurso. Cuando se sale del bloque with, se llama a `__exit__()`, incluso si ocurrió una excepción. Esta función limpia el recurso."
   ]
  },
  {
   "cell_type": "markdown",
   "metadata": {},
   "source": [
    "### <a id='toc1_3_4_'></a>[Ejercitación 3](#toc0_)"
   ]
  },
  {
   "cell_type": "markdown",
   "metadata": {},
   "source": [
    "**Ejercicio 1:** Escribe un programa que lea un archivo CSV de nombres y edades, y calcule la edad promedio."
   ]
  },
  {
   "cell_type": "code",
   "execution_count": null,
   "metadata": {},
   "outputs": [],
   "source": [
    "# COMPLETAR"
   ]
  },
  {
   "cell_type": "markdown",
   "metadata": {},
   "source": [
    "**Ejercicio 2:** Crea un programa que tome una lista de diccionarios y la guarde en un archivo JSON."
   ]
  },
  {
   "cell_type": "code",
   "execution_count": null,
   "metadata": {},
   "outputs": [],
   "source": [
    "# COMPLETAR"
   ]
  },
  {
   "cell_type": "markdown",
   "metadata": {},
   "source": [
    "**Ejercicio 3:** Escribe un context manager que mida el tiempo que toma ejecutar un bloque de código."
   ]
  },
  {
   "cell_type": "code",
   "execution_count": null,
   "metadata": {},
   "outputs": [],
   "source": [
    "# COMPLETAR"
   ]
  },
  {
   "cell_type": "markdown",
   "metadata": {},
   "source": [
    "## <a id='toc1_4_'></a>[Programación Orientada a Objetos Avanzada](#toc0_)"
   ]
  },
  {
   "cell_type": "markdown",
   "metadata": {},
   "source": [
    "\n",
    "\n",
    "### <a id='toc1_4_1_'></a>[Herencia](#toc0_)\n",
    "La herencia es un mecanismo que permite definir una clase que hereda métodos y propiedades de otra clase. La clase que hereda se llama subclase o clase hija, y la clase de la que se hereda se llama superclase o clase padre.\n",
    "\n",
    "Por ejemplo, si tenemos una clase ‘Animal’ con algunas propiedades y métodos, podemos crear una clase ‘Perro’ que hereda estas propiedades y métodos. Además, podemos agregar propiedades y métodos adicionales específicos de la clase de ‘Perro’."
   ]
  },
  {
   "cell_type": "code",
   "execution_count": null,
   "metadata": {},
   "outputs": [],
   "source": [
    "class Animal:\n",
    "    def __init__(self, nombre, edad):\n",
    "        self.nombre = nombre\n",
    "        self.edad = edad\n",
    "\n",
    "    def hacer_sonido(self):\n",
    "        pass\n",
    "\n",
    "\n",
    "class Perro(Animal):\n",
    "    def __init__(self, nombre, edad, raza):\n",
    "        super().__init__(nombre, edad)\n",
    "        self.raza = raza\n",
    "\n",
    "    def hacer_sonido(self):\n",
    "        print(\"¡Guau! ¡Guau!\")"
   ]
  },
  {
   "cell_type": "markdown",
   "metadata": {},
   "source": [
    "Como puede ver, la clase `Animal` tiene un método `hacer_sonido` que no hace nada. La clase `Perro` hereda de la clase `Animal` y define un método `hacer_sonido` propio que imprime un mensaje. Cuando llamamos al método `hacer_sonido` en una instancia de `Perro`, se llama al método `hacer_sonido` definido en la clase `Perro` en lugar del método `hacer_sonido` definido en la clase `Animal`.\n",
    "\n",
    "> La herencia también nos permitirá modificar o añadir nuevos métodos o atributos a la clase hija sin afectar la clase padre. \n",
    "\n",
    "En el ejemplo anterior, la clase `Perro` sobrescribió el método `hacer_sonido`, pero también incluimos una propiedad de perro `raza` que no está presente en la clase `Animal`."
   ]
  },
  {
   "cell_type": "code",
   "execution_count": null,
   "metadata": {},
   "outputs": [],
   "source": [
    "mi_perro = Perro(\"Whiskey\", 3, \"Terrier\")\n",
    "print(mi_perro.nombre)\n",
    "print(mi_perro.edad)\n",
    "print(mi_perro.raza)\n",
    "mi_perro.hacer_sonido()"
   ]
  },
  {
   "cell_type": "markdown",
   "metadata": {},
   "source": [
    "### <a id='toc1_4_2_'></a>[Polimorfismo](#toc0_)\n",
    "El polimorfismo se refiere a la habilidad de objetos de diferentes clases de responder al mismo método. En Python, el polimorfismo se logra a través de la herencia y la sobreescritura de métodos.\n",
    "\n",
    "Una de las ventajas del polimorfismo es que nos permite escribir código más genérico, lo que a su vez nos permite reutilizar nuestro código en una variedad de situaciones.\n"
   ]
  },
  {
   "cell_type": "markdown",
   "metadata": {},
   "source": [
    "Veamos un ejemplo para entenderlo mejor. \n",
    "\n",
    "Supongamos que tenemos una clase **Figura**, que tiene un método abstracto **area()**. La idea detrás de esta clase es que cualquier figura que queramos modelar, sea un cuadrado, un círculo, un triángulo, etc., siempre tendrá una propiedad de área. \n",
    "\n",
    "Entonces, podemos crear una clase **Cuadrado** que herede de **Figura** y defina su propia implementación de **area()**, que calcularía el área del cuadrado. Lo mismo podemos hacer para otras figuras, como un **Círculo** o un **Triángulo**."
   ]
  },
  {
   "cell_type": "code",
   "execution_count": null,
   "metadata": {},
   "outputs": [],
   "source": [
    "class Figura:\n",
    "    def area(self):\n",
    "        pass\n",
    "\n",
    "\n",
    "class Cuadrado(Figura):\n",
    "    def __init__(self, lado):\n",
    "        self.lado = lado\n",
    "\n",
    "    def area(self):\n",
    "        return self.lado * self.lado\n",
    "    \n",
    "\n",
    "class Circulo(Figura):\n",
    "    def __init__(self, radio):\n",
    "        self.radio = radio\n",
    "\n",
    "    def area(self):\n",
    "        return 3.1416 * self.radio * self.radio"
   ]
  },
  {
   "cell_type": "markdown",
   "metadata": {},
   "source": [
    "Una vez que hemos definido nuestras clases, podemos crear un método que acepte cualquier objeto de tipo Figura, y usar el método area() para calcular el área de esa figura particular:"
   ]
  },
  {
   "cell_type": "code",
   "execution_count": null,
   "metadata": {},
   "outputs": [],
   "source": [
    "def calcular_area(figura):\n",
    "    return figura.area()"
   ]
  },
  {
   "cell_type": "code",
   "execution_count": null,
   "metadata": {},
   "outputs": [],
   "source": [
    "cuadrado = Cuadrado(5)\n",
    "circulo = Circulo(3)\n",
    "\n",
    "print(calcular_area(cuadrado))\n",
    "print(calcular_area(circulo))"
   ]
  },
  {
   "cell_type": "markdown",
   "metadata": {},
   "source": [
    "### <a id='toc1_4_3_'></a>[Métodos de instancia, de clase y estáticos](#toc0_)\n",
    "\n",
    "#### <a id='toc1_4_3_1_'></a>[Métodos de instancia](#toc0_)\n",
    "Los métodos de instancia son los métodos normales, de toda la vida, que hemos visto anteriormente. Reciben como parámetro de entrada self que hace referencia a la instancia que llama al método. También pueden recibir otros argumentos como entrada.\n",
    "\n",
    "- Pueden acceder y modificar los atributos del objeto.\n",
    "- Pueden acceder a otros métodos.\n",
    "- Dado que desde el objeto self se puede acceder a la clase con ` self.class` también pueden modificar el estado de la clase\n"
   ]
  },
  {
   "cell_type": "code",
   "execution_count": null,
   "metadata": {},
   "outputs": [],
   "source": [
    "class Clase:\n",
    "    def metodo(self, arg1, arg2):\n",
    "        return 'Método normal', self\n",
    "    \n",
    "mi_clase = Clase()\n",
    "mi_clase.metodo(\"a\", \"b\")"
   ]
  },
  {
   "cell_type": "markdown",
   "metadata": {},
   "source": [
    "#### <a id='toc1_4_3_2_'></a>[Métodos de clase (classmethod)](#toc0_)\n",
    "A diferencia de los métodos de instancia, los métodos de clase reciben como argumento `cls`, que hace referencia a la clase y se escriben con el decorador `@classmethod` (luego hablaremos sobre los decoradores). Por lo tanto, pueden acceder a la clase pero no a la instancia.\n",
    "\n",
    "Por lo tanto, los métodos de clase:\n",
    "\n",
    "- No pueden acceder a los atributos de la instancia.\n",
    "- Pero si pueden modificar los atributos de la clase.\n"
   ]
  },
  {
   "cell_type": "code",
   "execution_count": null,
   "metadata": {},
   "outputs": [],
   "source": [
    "class Clase:\n",
    "    @classmethod\n",
    "    def metodo_de_clase(cls):\n",
    "        return 'Método de clase', cls"
   ]
  },
  {
   "cell_type": "code",
   "execution_count": null,
   "metadata": {},
   "outputs": [],
   "source": [
    "# Se pueden llamar desde la clase\n",
    "Clase.metodo_de_clase()"
   ]
  },
  {
   "cell_type": "code",
   "execution_count": null,
   "metadata": {},
   "outputs": [],
   "source": [
    "# Pero también se pueden llamar sobre el objeto\n",
    "mi_clase = Clase()\n",
    "mi_clase.metodo_de_clase()"
   ]
  },
  {
   "cell_type": "markdown",
   "metadata": {},
   "source": [
    "#### <a id='toc1_4_3_3_'></a>[Métodos estáticos (staticmethod)](#toc0_)\n",
    "\n",
    "Por último, los métodos estáticos se pueden definir con el decorador `@staticmethod` y no aceptan como parámetro ni la instancia ni la clase. Es por ello por lo que no pueden modificar el estado ni de la clase ni de la instancia. Pero por supuesto pueden aceptar parámetros de entrada."
   ]
  },
  {
   "cell_type": "markdown",
   "metadata": {},
   "source": [
    "A veces, puedes querer métodos que pertenezcan a la clase misma en lugar de a instancias individuales. Aquí es donde entran en juego los métodos de clase y estáticos."
   ]
  },
  {
   "cell_type": "code",
   "execution_count": null,
   "metadata": {},
   "outputs": [],
   "source": [
    "class Clase:\n",
    "    @staticmethod\n",
    "    def metodo_estatico():\n",
    "        return \"Método estático\""
   ]
  },
  {
   "cell_type": "code",
   "execution_count": null,
   "metadata": {},
   "outputs": [],
   "source": [
    "mi_clase = Clase()\n",
    "Clase.metodo_estatico()\n",
    "mi_clase.metodo_estatico()"
   ]
  },
  {
   "cell_type": "markdown",
   "metadata": {},
   "source": [
    "Probablemente ahora estés pensando que los métodos estáticos son muy parecidos a las funciones, y tienes razón. La diferencia principal es que los métodos estáticos se pueden llamar desde la clase y desde el objeto, mientras que las funciones no se pueden llamar desde el objeto."
   ]
  },
  {
   "cell_type": "markdown",
   "metadata": {},
   "source": [
    "Por lo tanto el uso de los métodos estáticos pueden resultar útil para indicar que un método no modificará el estado de la instancia ni de la clase. Y es cierto que se podría hacer lo mismo con un método de instancia por ejemplo, pero a veces resulta importante indicar de alguna manera estas peculiaridades, evitando así futuros problemas y malentendidos."
   ]
  },
  {
   "cell_type": "markdown",
   "metadata": {},
   "source": [
    "### <a id='toc1_4_4_'></a>[Propiedades](#toc0_)\n",
    "\n",
    "Las propiedades son una forma elegante de controlar cómo los atributos de tu clase son accedidos y modificados. Te permiten ejecutar código cada vez que un atributo es leído o escrito."
   ]
  },
  {
   "cell_type": "code",
   "execution_count": null,
   "metadata": {},
   "outputs": [],
   "source": [
    "class Persona:\n",
    "    def __init__(self, nombre, edad):\n",
    "        self._nombre = nombre\n",
    "        self._edad = edad\n",
    "\n",
    "    @property\n",
    "    def nombre(self):\n",
    "        return self._nombre\n",
    "\n",
    "    @nombre.setter\n",
    "    def nombre(self, nuevo_nombre):\n",
    "        if len(nuevo_nombre) > 0:\n",
    "            self._nombre = nuevo_nombre\n",
    "        else:\n",
    "            print(\"El nombre no puede estar vacío\")\n",
    "\n",
    "\n",
    "persona = Persona(\"Juan\", 30)\n",
    "print(persona.nombre)\n",
    "persona.nombre = \"\""
   ]
  },
  {
   "cell_type": "markdown",
   "metadata": {},
   "source": [
    "En este ejemplo, `nombre` es una propiedad. Cuando accedes a `persona.nombre`, Python llama al método nombre decorado con `@property`. Cuando intentas asignar un nuevo valor a `persona.nombre`, Python llama al método nombre decorado con `@nombre.setter`."
   ]
  },
  {
   "cell_type": "markdown",
   "metadata": {},
   "source": [
    "Esto te permite validar entradas, derivar valores de otros atributos, o incluso actualizar una base de datos cada vez que un atributo cambia. Las posibilidades son infinitas. "
   ]
  },
  {
   "cell_type": "markdown",
   "metadata": {},
   "source": [
    "### <a id='toc1_4_5_'></a>[Métodos mágicos](#toc0_)\n",
    "\n",
    "Los métodos mágicos, también conocidos como _dunders_ (double underscores), son métodos especiales con nombres rodeados por dobles guiones bajos. Estos métodos te permiten definir el comportamiento de tus objetos en situaciones específicas, como cuando se les aplica un operador o se les imprime.\n",
    "\n",
    "Aquí te muestro algunos de los métodos mágicos más comunes:"
   ]
  },
  {
   "cell_type": "code",
   "execution_count": null,
   "metadata": {},
   "outputs": [],
   "source": [
    "class MiLista:\n",
    "    def __init__(self, *args):\n",
    "        self.valores = list(args)\n",
    "\n",
    "    def __str__(self):\n",
    "        return f\"MiLista: {self.valores}\"\n",
    "\n",
    "    def __len__(self):\n",
    "        return len(self.valores)\n",
    "\n",
    "    def __getitem__(self, index):\n",
    "        return self.valores[index]\n",
    "\n",
    "\n",
    "mi_lista = MiLista(1, 2, 3)\n",
    "print(mi_lista)\n",
    "print(len(mi_lista))\n",
    "print(mi_lista[1])"
   ]
  },
  {
   "cell_type": "markdown",
   "metadata": {},
   "source": [
    "- `__init__`: Ya lo has visto antes. Es el constructor de la clase y se llama cuando creas una nueva instancia.\n",
    "- `__str__`: Define cómo se imprime tu objeto cuando usas print() o str(). En este caso, imprime \"MiLista: [valores]\".\n",
    "- `__len__`: Permite que len() funcione en tu objeto. Aquí, devuelve la longitud de self.valores.\n",
    "- `__getitem__`: Hace que tu objeto sea indexable, es decir, puedes usar [] para acceder a elementos individuales.\n",
    "\n",
    "Pero eso no es todo. Hay muchos otros métodos mágicos:\n",
    "\n",
    "- `__repr__`: Similar a `__str__`, pero se usa para una representación más detallada del objeto, generalmente para propósitos de depuración.\n",
    "- `__iter__`, `__next__`: Estos métodos hacen que tu objeto sea iterable, lo que significa que puedes usarlo en un bucle `for`.\n",
    "- `__eq__`, `__lt__`, `__gt__`, etc.: Estos métodos definen cómo se compara tu objeto con otros objetos usando operadores como `==`, `<`, `>`, etc.\n",
    "- `__add__`, `__sub__`, `__mul__`, etc.: Estos métodos definen cómo se comporta tu objeto con operadores aritméticos como `+`, `-`, `*`, etc.\n",
    "\n",
    "Mira este ejemplo para ver algunos de estos métodos en acción:"
   ]
  },
  {
   "cell_type": "code",
   "execution_count": null,
   "metadata": {},
   "outputs": [],
   "source": [
    "class MiLista:\n",
    "    def __init__(self, *args):\n",
    "        self.valores = list(args)\n",
    "\n",
    "    def __repr__(self):\n",
    "        return f\"MiLista({self.valores})\"\n",
    "\n",
    "    def __eq__(self, other):\n",
    "        return self.valores == other.valores\n",
    "\n",
    "    def __add__(self, other):\n",
    "        return MiLista(*(self.valores + other.valores))\n",
    "\n",
    "\n",
    "mi_lista1 = MiLista(1, 2, 3)\n",
    "mi_lista2 = MiLista(4, 5, 6)\n",
    "print('mi_lista1:', repr(mi_lista1))\n",
    "print('mi_lista2:', repr(mi_lista2))\n",
    "\n",
    "print('mi_lista1 == mi_lista2:', mi_lista1 == mi_lista2)\n",
    "mi_lista3 = mi_lista1 + mi_lista2\n",
    "print(mi_lista3)"
   ]
  },
  {
   "cell_type": "markdown",
   "metadata": {},
   "source": [
    "En este ejemplo:\n",
    "\n",
    "- `__repr__` devuelve una representación de cadena que se puede usar para recrear el objeto.\n",
    "- `__eq__` verifica si dos objetos MiLista tienen los mismos valores.\n",
    "- `__add__` define cómo se comporta + con objetos MiLista. Aquí, concatena los valores de las dos listas."
   ]
  },
  {
   "cell_type": "markdown",
   "metadata": {},
   "source": [
    "Los métodos mágicos son una característica poderosa de Python que te permite hacer que tus objetos se comporten de manera intuitiva y natural. Pueden hacer tu código más legible y expresivo, y son esenciales para crear APIs elegantes."
   ]
  },
  {
   "cell_type": "markdown",
   "metadata": {},
   "source": [
    "### <a id='toc1_4_6_'></a>[Ejercitación 4](#toc0_)\n",
    "\n",
    "**Ejercicio 1**:\n",
    "Crea una jerarquía de clases para representar diferentes tipos de empleados (por ejemplo, Gerente, Asociado, Pasante) en una empresa. Cada clase debe tener atributos como nombre, salario y un método para calcular bonos. Los gerentes deben tener un bono adicional basado en el desempeño de su equipo."
   ]
  },
  {
   "cell_type": "code",
   "execution_count": null,
   "metadata": {},
   "outputs": [],
   "source": [
    "# COMPLETAR"
   ]
  },
  {
   "cell_type": "markdown",
   "metadata": {},
   "source": [
    "**Ejercicio 2**:\n",
    "Extiende el ejercicio anterior agregando un método de clase que cuente el número total de empleados en la empresa. Usa un método estático para generar informes sobre la nómina de la empresa."
   ]
  },
  {
   "cell_type": "code",
   "execution_count": null,
   "metadata": {},
   "outputs": [],
   "source": [
    "# COMPLETAR"
   ]
  },
  {
   "cell_type": "markdown",
   "metadata": {},
   "source": [
    "**Ejercicio 3**:\n",
    "Crea una clase Círculo con una propiedad para el radio. Asegúrate de que el radio sea siempre positivo. Agrega métodos para calcular el área y la circunferencia del círculo."
   ]
  },
  {
   "cell_type": "code",
   "execution_count": null,
   "metadata": {},
   "outputs": [],
   "source": [
    "# COMPLETAR"
   ]
  },
  {
   "cell_type": "markdown",
   "metadata": {},
   "source": [
    "**Ejercicio 4**:\n",
    "Extiende la clase MiLista del ejemplo anterior para que también soporte los operadores - (resta), * (multiplicación), y < (menor que). La resta debe eliminar la primera aparición de los elementos de la segunda lista de la primera lista. La multiplicación debe repetir la lista un número dado de veces. El operador menor que debe verificar si la suma de la primera lista es menor que la suma de la segunda lista."
   ]
  },
  {
   "cell_type": "code",
   "execution_count": null,
   "metadata": {},
   "outputs": [],
   "source": [
    "# COMPLETAR"
   ]
  },
  {
   "cell_type": "markdown",
   "metadata": {},
   "source": [
    "## <a id='toc1_5_'></a>[Decoradores](#toc0_)"
   ]
  },
  {
   "cell_type": "markdown",
   "metadata": {},
   "source": [
    "### <a id='toc1_5_1_'></a>[Qué son los Decoradores](#toc0_)\n",
    "\n",
    "En Python, las funciones son objetos de primera clase, lo que significa que puedes asignarlas a variables, pasarlas como argumentos a otras funciones e incluso definirlas dentro de otras funciones. \n",
    "\n",
    "Los decoradores explotan esta característica para añadir funcionalidad extra a las funciones existentes. \n",
    "\n",
    "Imagina que tienes una función que quieres cronometrar para ver cuánto tiempo tarda en ejecutarse. Podrías modificar la función para agregar el código de cronometraje, pero eso ensuciaría la función y tendrías que hacer lo mismo para cada función que quieras cronometrar. En su lugar, puedes crear **un decorador**.\n",
    "\n",
    "Un decorador es una función que toma otra función como argumento, agrega alguna funcionalidad y devuelve otra función, sin modificar el código fuente de la función original."
   ]
  },
  {
   "cell_type": "markdown",
   "metadata": {},
   "source": [
    "### <a id='toc1_5_2_'></a>[Creando Decoradores](#toc0_)\n",
    "\n",
    "Vamos a crear un decorador simple que imprima un mensaje antes y después de ejecutar una función:"
   ]
  },
  {
   "cell_type": "code",
   "execution_count": null,
   "metadata": {},
   "outputs": [],
   "source": [
    "def mi_decorador(func):\n",
    "    def wrapper():\n",
    "        print(\"Antes de la función.\")\n",
    "        func()\n",
    "        print(\"Después de la función.\")\n",
    "    return wrapper\n",
    "\n",
    "\n",
    "@mi_decorador\n",
    "def saluda():\n",
    "    print(\"¡Hola!\")\n",
    "\n",
    "\n",
    "saluda()"
   ]
  },
  {
   "cell_type": "markdown",
   "metadata": {},
   "source": [
    "Aquí está lo que ocurre:\n",
    "\n",
    "1. Definimos `mi_decorador`, que toma una función `func` como argumento.\n",
    "2. Dentro de `mi_decorador`, definimos `wrapper`. Esta función envuelve la llamada a `func` con mensajes adicionales.\n",
    "3. `mi_decorador` devuelve `wrapper`.\n",
    "4. Usamos `@mi_decorador` justo antes de la definición de saluda. Esto es equivalente a `saluda = mi_decorador(saluda)`.\n",
    "5. Cuando llamamos a `saluda()`, en realidad estamos llamando a `wrapper()`, que imprime los mensajes y luego llama a la función original `saluda()`."
   ]
  },
  {
   "cell_type": "markdown",
   "metadata": {},
   "source": [
    "Aquí viene lo interesante: Los decoradores también pueden tomar argumentos. \n",
    "\n",
    "Mira este ejemplo:"
   ]
  },
  {
   "cell_type": "code",
   "execution_count": null,
   "metadata": {},
   "outputs": [],
   "source": [
    "def repetir(n):\n",
    "    def decorador(func):\n",
    "        def wrapper(*args, **kwargs):\n",
    "            for _ in range(n):\n",
    "                result = func(*args, **kwargs)\n",
    "            return result\n",
    "        return wrapper\n",
    "    return decorador\n",
    "\n",
    "\n",
    "@repetir(3)\n",
    "def saluda(nombre):\n",
    "    print(f\"¡Hola, {nombre}!\")\n",
    "\n",
    "\n",
    "saluda(\"Alice\")"
   ]
  },
  {
   "cell_type": "markdown",
   "metadata": {},
   "source": [
    "En este caso, `repetir` es una función que devuelve un decorador. El decorador devuelto envuelve la función original de tal manera que la llama `n` veces."
   ]
  },
  {
   "cell_type": "markdown",
   "metadata": {},
   "source": [
    "### <a id='toc1_5_3_'></a>[Casos de Uso: Memoización, Logging, Verificación de Permisos](#toc0_)\n",
    "\n",
    "Los decoradores tienen muchos usos prácticos. Aquí te muestro algunos ejemplos:\n",
    "\n",
    "**💾 Memoización:** Puedes usar un decorador para almacenar en caché los resultados de una función y devolver el resultado en caché cuando la función se llama con los mismos argumentos. Esto puede ahorrar tiempo si la función es costosa computacionalmente."
   ]
  },
  {
   "cell_type": "code",
   "execution_count": null,
   "metadata": {},
   "outputs": [],
   "source": [
    "def memoizar(func):\n",
    "    cache = {}\n",
    "\n",
    "    def wrapper(*args):\n",
    "        if args in cache:\n",
    "            return cache[args]\n",
    "        else:\n",
    "            resultado = func(*args)\n",
    "            cache[args] = resultado\n",
    "            return resultado\n",
    "\n",
    "    return wrapper\n",
    "\n",
    "\n",
    "@memoizar\n",
    "def fibonacci(n):\n",
    "    if n < 2:\n",
    "        return n\n",
    "    return fibonacci(n-1) + fibonacci(n-2)"
   ]
  },
  {
   "cell_type": "code",
   "execution_count": null,
   "metadata": {},
   "outputs": [],
   "source": [
    "import time\n",
    "\n",
    "start = time.time()\n",
    "print(str(fibonacci(1000))[:10], '...')\n",
    "end = time.time()\n",
    "print('Tiempo ejecución: {:.6f} seg'.format(end - start))"
   ]
  },
  {
   "cell_type": "code",
   "execution_count": null,
   "metadata": {},
   "outputs": [],
   "source": [
    "# Y luego de ser cacheado...\n",
    "start = time.time()\n",
    "print(str(fibonacci(1000))[:10], '...')\n",
    "end = time.time()\n",
    "print('Tiempo ejecución: {:.6f} seg'.format(end - start))"
   ]
  },
  {
   "cell_type": "markdown",
   "metadata": {},
   "source": [
    "**🐛 Logging:** Puedes usar un decorador para registrar cuando se llama a una función, con qué argumentos, y qué devuelve. Esto puede ser útil para depurar bugs."
   ]
  },
  {
   "cell_type": "code",
   "execution_count": null,
   "metadata": {},
   "outputs": [],
   "source": [
    "def registrar(func):\n",
    "    def wrapper(*args, **kwargs):\n",
    "        print(f\"Llamando {func.__name__} con {args}, {kwargs}\")\n",
    "        resultado = func(*args, **kwargs)\n",
    "        print(f\"{func.__name__} devolvió {resultado}\")\n",
    "        return resultado\n",
    "    return wrapper\n",
    "\n",
    "\n",
    "@registrar\n",
    "def suma(a, b):\n",
    "    return a + b\n",
    "\n",
    "\n",
    "suma(1, 2)"
   ]
  },
  {
   "cell_type": "markdown",
   "metadata": {},
   "source": [
    "**🔒 Verificación de Permisos:** Puedes usar un decorador para verificar si un usuario tiene permiso para ejecutar una función. Si no lo tiene, el decorador puede lanzar una excepción. "
   ]
  },
  {
   "cell_type": "code",
   "execution_count": null,
   "metadata": {},
   "outputs": [],
   "source": [
    "permisos_usuarios = {\n",
    "    \"usuario1\": [\"leer\"],\n",
    "    \"usuario2\": [\"leer\", \"escribir\"],\n",
    "    \"admin\": [\"leer\", \"escribir\", \"borrar\"],\n",
    "}\n",
    "\n",
    "# En una aplicación real, esto vendría de una sesión o\n",
    "# token de autenticación\n",
    "usuario_actual = \"usuario1\"\n",
    "\n",
    "\n",
    "def tiene_permiso(permiso):\n",
    "    return permiso in permisos_usuarios[usuario_actual]\n",
    "\n",
    "\n",
    "def requiere_permiso(permiso):\n",
    "    def decorador(func):\n",
    "        def wrapper(*args, **kwargs):\n",
    "            if not tiene_permiso(permiso):\n",
    "                raise PermissionError(f\"Se requiere permiso {permiso}\")\n",
    "            return func(*args, **kwargs)\n",
    "        return wrapper\n",
    "    return decorador\n",
    "\n",
    "\n",
    "@requiere_permiso(\"leer\")\n",
    "def leer_base_de_datos():\n",
    "    print(\"Leyendo la base de datos...\")\n",
    "\n",
    "\n",
    "@requiere_permiso(\"escribir\")\n",
    "def escribir_base_de_datos():\n",
    "    print(\"Escribiendo en la base de datos...\")\n",
    "\n",
    "\n",
    "@requiere_permiso(\"borrar\")\n",
    "def borrar_base_de_datos():\n",
    "    print(\"Borrando la base de datos...\")"
   ]
  },
  {
   "cell_type": "code",
   "execution_count": null,
   "metadata": {},
   "outputs": [],
   "source": [
    "# Funciona, \"usuario1\" tiene permiso de \"leer\"\n",
    "leer_base_de_datos()"
   ]
  },
  {
   "cell_type": "code",
   "execution_count": null,
   "metadata": {},
   "outputs": [],
   "source": [
    "# Lanza PermissionError, \"usuario1\" no tiene permiso de \"escribir\"\n",
    "escribir_base_de_datos()"
   ]
  },
  {
   "cell_type": "code",
   "execution_count": null,
   "metadata": {},
   "outputs": [],
   "source": [
    "# Lanza PermissionError, \"usuario1\" no tiene permiso de \"borrar\"\n",
    "borrar_base_de_datos()"
   ]
  },
  {
   "cell_type": "markdown",
   "metadata": {},
   "source": [
    "Este es un ejemplo simplificado, pero muestra cómo podrías usar decoradores para implementar un sistema de permisos. \n",
    "\n",
    "En una aplicación real, probablemente tendrías una capa de autenticación más robusta y obtendrías los permisos de una base de datos. Pero el principio sigue siendo el mismo: el decorador verifica los permisos antes de permitir que se ejecute la función."
   ]
  },
  {
   "cell_type": "markdown",
   "metadata": {},
   "source": [
    "### <a id='toc1_5_4_'></a>[Ejercitación 5](#toc0_)"
   ]
  },
  {
   "cell_type": "markdown",
   "metadata": {},
   "source": [
    "**Ejercicio 1**: Escribe un decorador `contar_llamadas` que cuente cuántas veces se ha llamado a una función. Úsalo para decorar una función y llama a esa función varias veces. Imprime el contador después de cada llamada."
   ]
  },
  {
   "cell_type": "code",
   "execution_count": null,
   "metadata": {},
   "outputs": [],
   "source": [
    "# COMPLETAR"
   ]
  },
  {
   "cell_type": "markdown",
   "metadata": {},
   "source": [
    "**Ejercicio 2**: Crea un decorador `cronometrar` que mida cuánto tiempo tarda una función en ejecutarse. Úsalo para decorar varias funciones y compara sus tiempos de ejecución."
   ]
  },
  {
   "cell_type": "code",
   "execution_count": null,
   "metadata": {},
   "outputs": [],
   "source": [
    "# COMPLETAR"
   ]
  },
  {
   "cell_type": "markdown",
   "metadata": {},
   "source": [
    "## <a id='toc1_6_'></a>[Generadores y corutinas](#toc0_)"
   ]
  },
  {
   "cell_type": "markdown",
   "metadata": {},
   "source": [
    "### <a id='toc1_6_1_'></a>[Generadores e Iteradores](#toc0_)\n",
    "\n",
    "En Python, un iterador es un objeto que puedes recorrer (iterar) como una lista. Pero a diferencia de una lista, un iterador no almacena todos sus valores en memoria, sino que los genera sobre la marcha. Esto puede ahorrar mucha memoria cuando estás trabajando con secuencias grandes.\n",
    "\n",
    "Un generador es una función especial que devuelve un iterador. Se define como una función normal, pero en lugar de usar `return`, usa `yield` para devolver un valor. \n",
    "\n",
    "Aquí tienes un ejemplo:"
   ]
  },
  {
   "cell_type": "code",
   "execution_count": null,
   "metadata": {},
   "outputs": [],
   "source": [
    "def generador_cuadrados(n):\n",
    "    for i in range(n):\n",
    "        yield i ** 2\n",
    "\n",
    "for cuadrado in generador_cuadrados(5):\n",
    "    print(cuadrado)"
   ]
  },
  {
   "cell_type": "markdown",
   "metadata": {},
   "source": [
    "En este ejemplo, `generador_cuadrados` es un generador que devuelve el cuadrado de los números de 0 a n-1. Cada vez que llega a un `yield`, devuelve un valor y pausa su ejecución. Cuando se le pide el siguiente valor, continúa donde lo dejó."
   ]
  },
  {
   "cell_type": "markdown",
   "metadata": {},
   "source": [
    "### <a id='toc1_6_2_'></a>[La declaración yield](#toc0_)\n",
    "\n",
    "Como viste en el ejemplo anterior, `yield` es similar a return, pero en lugar de salir de la función, `yield` pausa la función y guarda su estado. Cuando se llama al siguiente valor del generador, la función continúa desde donde se pausó. \n",
    "\n",
    "\n",
    "Aquí tienes otro ejemplo que muestra cómo yield puede simplificar el código:"
   ]
  },
  {
   "cell_type": "code",
   "execution_count": null,
   "metadata": {},
   "outputs": [],
   "source": [
    "def fibonacci():\n",
    "    a, b = 0, 1\n",
    "    while True:\n",
    "        yield a\n",
    "        a, b = b, a + b\n",
    "\n",
    "\n",
    "fib = fibonacci()\n",
    "for _ in range(10):\n",
    "    print(next(fib))"
   ]
  },
  {
   "cell_type": "markdown",
   "metadata": {},
   "source": [
    "\n",
    "En este ejemplo, fibonacci es un generador que devuelve números de la secuencia de Fibonacci indefinidamente. Cada vez que se llama a next(fib), el generador continúa desde donde se pausó y devuelve el siguiente número de Fibonacci."
   ]
  },
  {
   "cell_type": "markdown",
   "metadata": {},
   "source": [
    "### <a id='toc1_6_3_'></a>[Corutinas y Programación Asíncrona](#toc0_)\n",
    "\n",
    "Una corutina es una función que puede pausar su ejecución para permitir que otra corutina se ejecute. Esto es útil para tareas asíncronas, donde tienes muchas tareas que pueden estar esperando por I/O (como solicitudes de red) y quieres permitir que otras tareas se ejecuten mientras tanto.\n",
    "\n",
    "En Python, puedes definir corutinas usando `async def` y `await`. \n",
    "\n",
    "Aquí hay un ejemplo simple:"
   ]
  },
  {
   "cell_type": "code",
   "execution_count": null,
   "metadata": {},
   "outputs": [],
   "source": [
    "import asyncio\n",
    "\n",
    "async def saluda(nombre):\n",
    "    print(f\"Hola, {nombre}\")\n",
    "    await asyncio.sleep(1)\n",
    "    print(f\"Adiós, {nombre}\")\n",
    "\n",
    "async def main():\n",
    "    await asyncio.gather(\n",
    "        saluda(\"Alice\"),\n",
    "        saluda(\"Bob\"),\n",
    "        saluda(\"Charlie\")\n",
    "    )\n",
    "\n",
    "# También se usa asyncio.run(), fuera de jupyter notebooks\n",
    "asyncio.create_task(main())"
   ]
  },
  {
   "cell_type": "markdown",
   "metadata": {},
   "source": [
    "En este ejemplo, `saluda` es una corutina que imprime un saludo, espera un segundo (simulando alguna tarea que toma tiempo), y luego imprime una despedida. `main` es otra corutina que llama a `saluda` tres veces concurrentemente usando `asyncio.gather`.\n",
    "\n",
    "La programación asíncrona es un tema amplio y complejo, pero este ejemplo muestra los conceptos básicos. Las corutinas pueden pausarse con await cuando encuentran una tarea que puede tomar tiempo (como I/O), permitiendo que otras corutinas se ejecuten mientras tanto. Esto puede hacer que tu programa sea mucho más eficiente. ⚡"
   ]
  },
  {
   "cell_type": "markdown",
   "metadata": {},
   "source": [
    "### <a id='toc1_6_4_'></a>[Multi-threading](#toc0_)\n",
    "\n",
    "Multi-threading es una técnica donde un programa se divide en múltiples hilos (threads) de ejecución que pueden ejecutarse concurrentemente. Cada hilo ejecuta una parte del código del programa independientemente de los otros hilos.\n",
    "\n",
    "Aquí tienes un ejemplo de cómo crear y ejecutar hilos en Python usando el módulo `threading`:"
   ]
  },
  {
   "cell_type": "code",
   "execution_count": null,
   "metadata": {},
   "outputs": [],
   "source": [
    "import threading\n",
    "import time\n",
    "\n",
    "\n",
    "def trabajador(id):\n",
    "    print(f\"Trabajador {id} comenzando...\")\n",
    "    time.sleep(2)  # Simula algún trabajo que toma tiempo\n",
    "    print(f\"Trabajador {id} terminando...\")\n",
    "\n",
    "\n",
    "hilos = []\n",
    "for i in range(5):\n",
    "    t = threading.Thread(target=trabajador, args=(i,))\n",
    "    hilos.append(t)\n",
    "    t.start()\n",
    "\n",
    "for t in hilos:\n",
    "    t.join()\n",
    "\n",
    "print(\"Todos los hilos han terminado.\")"
   ]
  },
  {
   "cell_type": "markdown",
   "metadata": {},
   "source": [
    "En este ejemplo, creamos una función `trabajador` que simula algún trabajo que toma tiempo. Luego, creamos 5 hilos, cada uno ejecutando la función `trabajador` con un ID diferente. Iniciamos cada hilo con `start()` y luego esperamos que todos los hilos terminen usando `join()`."
   ]
  },
  {
   "cell_type": "markdown",
   "metadata": {},
   "source": [
    "La principal diferencia entre programación asíncrona y multi-threading es cómo manejan la concurrencia:\n",
    "\n",
    "- La programación asíncrona usa un solo hilo y un bucle de eventos. Cuando una tarea está esperando (por ejemplo, por I/O), el bucle de eventos cambia a otra tarea. Esto hace que parezca que las tareas se están ejecutando simultáneamente, aunque en realidad se están turnando en un solo hilo. 🎡\n",
    "- Multi-threading usa múltiples hilos que se ejecutan simultáneamente en diferentes núcleos de la CPU (si están disponibles). Cada hilo tiene su propio stack y comparte el heap con otros hilos. (Investiga sobre qué es un stack y un heap si no sabes qué son). 🧵\n",
    "\n",
    "En general, usarías programación asíncrona cuando tienes muchas tareas I/O-bound que pasan la mayor parte de su tiempo esperando por I/O (como solicitudes de red). Usarías multi-threading cuando tienes tareas CPU-bound que pasan la mayor parte de su tiempo haciendo cálculos.\n",
    "\n",
    "Sin embargo, el multi-threading tiene algunos desafíos. Los hilos comparten memoria, lo que puede llevar a condiciones de carrera si múltiples hilos están accediendo a los mismos datos compartidos y son interrumpidos en momentos inesperados. Por eso es importante usar técnicas de sincronización (como locks o semáforos) cuando múltiples hilos necesitan acceder a los mismos datos..\n",
    "\n",
    "Python también tiene el Global Interpreter Lock (GIL), que limita la ejecución a un solo hilo a la vez, incluso en un programa multi-threaded."
   ]
  },
  {
   "cell_type": "markdown",
   "metadata": {},
   "source": [
    "### <a id='toc1_6_5_'></a>[Ejercitación 6](#toc0_)"
   ]
  },
  {
   "cell_type": "markdown",
   "metadata": {},
   "source": [
    "**Ejercicio 1:** Escribe un generador que devuelva los números primos hasta un número dado n. Prueba tu generador con n = 10 y verifica que los números devueltos son primos."
   ]
  },
  {
   "cell_type": "code",
   "execution_count": null,
   "metadata": {},
   "outputs": [],
   "source": []
  },
  {
   "cell_type": "markdown",
   "metadata": {},
   "source": [
    "**Ejercicio 2:** Crea un generador que devuelva permutaciones de una lista dada. Prueba tu generador con una lista de 5 elementos y verifica que las permutaciones son correctas."
   ]
  },
  {
   "cell_type": "code",
   "execution_count": null,
   "metadata": {},
   "outputs": [],
   "source": []
  },
  {
   "cell_type": "markdown",
   "metadata": {},
   "source": [
    "**Ejercicio 3:** Escribe una corutina que haga solicitudes HTTP a una lista de URLs y devuelva los tamaños de las respuestas. Usa `aiohttp` para hacer las solicitudes concurrentemente."
   ]
  },
  {
   "cell_type": "code",
   "execution_count": null,
   "metadata": {},
   "outputs": [],
   "source": [
    "# Aquí te dejamos un listado, pero puedes cambiarlo por los que quieras\n",
    "lista_urls = [\n",
    "    \"https://www.wikipedia.org/\",\n",
    "    \"https://www.nytimes.com/\",\n",
    "    \"https://www.amazon.com/\",\n",
    "    \"https://www.youtube.com/\",\n",
    "    \"https://www.reddit.com/\",\n",
    "    \"https://www.theguardian.com/\",\n",
    "    \"https://www.stackoverflow.com/\",\n",
    "]\n"
   ]
  },
  {
   "cell_type": "markdown",
   "metadata": {},
   "source": [
    "**Ejercicio 4:** Escribe un programa que descargue el contenido de varias URLs simultáneamente usando multi-threading. El programa debe:\n",
    "\n",
    "- Tomar una lista de URLs.\n",
    "- Crear un hilo para cada URL que descargue el contenido de esa URL.\n",
    "- Medir y imprimir el tiempo total que toma descargar todas las URLs.\n",
    "\n",
    "Puedes usar la biblioteca `requests` para hacer las solicitudes HTTP y la biblioteca `time` para medir el tiempo."
   ]
  },
  {
   "cell_type": "code",
   "execution_count": null,
   "metadata": {},
   "outputs": [],
   "source": []
  },
  {
   "cell_type": "markdown",
   "metadata": {},
   "source": [
    "## <a id='toc1_7_'></a>[Final Boss 🐲](#toc0_)"
   ]
  },
  {
   "cell_type": "markdown",
   "metadata": {},
   "source": [
    "Imagina que estás construyendo un **sistema para gestionar empleados** de una empresa. Cada empleado tiene un nombre, un ID único, y un salario base. Hay dos tipos de empleados: Gerentes y Asociados. Los Gerentes tienen un bono adicional basado en el desempeño, mientras que los Asociados tienen un número de horas extra trabajadas.\n",
    "\n",
    "Tu tarea es crear un sistema que:\n",
    "\n",
    "1. Lea los datos de los empleados desde un archivo JSON.\n",
    "2. Calcule el salario total de cada empleado (salario base + bono para Gerentes, salario base + pago por horas extra para Asociados).\n",
    "3. Permita agregar nuevos empleados al sistema.\n",
    "4. Permita guardar los datos actualizados de vuelta al archivo JSON.\n",
    "5. Tenga una función de registro (logging) que registre las operaciones realizadas en el sistema.\n",
    "6. Maneje las posibles excepciones (por ejemplo, al leer un archivo inexistente).\n",
    "7. Abajo te dejo un esqueleto del código para que completes.\n",
    "\n",
    "Este ejercicio te permitirá practicar varios conceptos que hemos cubierto, como:\n",
    "\n",
    "- Clases y herencia (Empleado, Gerente, Asociado)\n",
    "- Decoradores (para la función de registro)\n",
    "- Manejo de archivos (cargar y guardar datos en formato JSON)\n",
    "- Manejo de excepciones (al cargar archivos)\n",
    "- Interacción con el usuario (en la función principal)\n",
    "\n",
    "Te animo a que completes este ejercicio por tu cuenta. Si te quedas atascado o tienes alguna pregunta, no dudes en preguntar. "
   ]
  },
  {
   "cell_type": "code",
   "execution_count": null,
   "metadata": {},
   "outputs": [],
   "source": [
    "import json\n",
    "from functools import wraps\n",
    "\n",
    "class Empleado:\n",
    "    def __init__(self, nombre, id, salario_base):\n",
    "        self.nombre = nombre\n",
    "        self.id = id\n",
    "        self.salario_base = salario_base\n",
    "\n",
    "    def calcular_salario(self):\n",
    "        return self.salario_base\n",
    "\n",
    "class Gerente(Empleado):\n",
    "    def __init__(self, nombre, id, salario_base, bono):\n",
    "        super().__init__(nombre, id, salario_base)\n",
    "        self.bono = bono\n",
    "\n",
    "    def calcular_salario(self):\n",
    "        # Implementar el cálculo del salario para Gerentes\n",
    "\n",
    "class Asociado(Empleado):\n",
    "    def __init__(self, nombre, id, salario_base, horas_extra):\n",
    "        super().__init__(nombre, id, salario_base)\n",
    "        self.horas_extra = horas_extra\n",
    "\n",
    "    def calcular_salario(self):\n",
    "        # Implementar el cálculo del salario para Asociados\n",
    "\n",
    "def registro(func):\n",
    "    @wraps(func)\n",
    "    def wrapper(*args, **kwargs):\n",
    "        # Implementar la función de registro\n",
    "        # ...\n",
    "        result = func(*args, **kwargs)\n",
    "        # ...\n",
    "        return result\n",
    "    return wrapper\n",
    "\n",
    "class SistemaGestionEmpleados:\n",
    "    def __init__(self, archivo_datos):\n",
    "        self.archivo_datos = archivo_datos\n",
    "        self.empleados = []\n",
    "\n",
    "    def cargar_datos(self):\n",
    "        # Implementar la carga de datos desde el archivo JSON\n",
    "        # Manejar la posible excepción FileNotFoundError\n",
    "\n",
    "    def guardar_datos(self):\n",
    "        # Implementar el guardado de datos al archivo JSON\n",
    "\n",
    "    @registro\n",
    "    def agregar_empleado(self, empleado):\n",
    "        # Implementar la adición de un nuevo empleado al sistema\n",
    "\n",
    "    def calcular_salarios_totales(self):\n",
    "        # Implementar el cálculo y la impresión de los salarios totales de todos los empleados\n",
    "\n",
    "# Función principal\n",
    "def main():\n",
    "    sistema = SistemaGestionEmpleados('datos_empleados.json')\n",
    "    sistema.cargar_datos()\n",
    "\n",
    "    while True:\n",
    "        print(\"\\nOpciones:\")\n",
    "        print(\"1. Agregar un nuevo empleado\")\n",
    "        print(\"2. Calcular salarios totales\")\n",
    "        print(\"3. Guardar datos y salir\")\n",
    "\n",
    "        opcion = input(\"Ingrese una opción: \")\n",
    "\n",
    "        if opcion == '1':\n",
    "            # Implementar la adición de un nuevo empleado\n",
    "        elif opcion == '2':\n",
    "            sistema.calcular_salarios_totales()\n",
    "        elif opcion == '3':\n",
    "            sistema.guardar_datos()\n",
    "            break\n",
    "        else:\n",
    "            print(\"Opción inválida. Por favor, intente de nuevo.\")\n",
    "\n",
    "if __name__ == '__main__':\n",
    "    main()"
   ]
  }
 ],
 "metadata": {
  "kernelspec": {
   "display_name": "Python 3",
   "language": "python",
   "name": "python3"
  },
  "language_info": {
   "codemirror_mode": {
    "name": "ipython",
    "version": 3
   },
   "file_extension": ".py",
   "mimetype": "text/x-python",
   "name": "python",
   "nbconvert_exporter": "python",
   "pygments_lexer": "ipython3",
   "version": "3.10.13"
  }
 },
 "nbformat": 4,
 "nbformat_minor": 2
}
