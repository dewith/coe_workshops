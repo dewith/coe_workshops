{
 "cells": [
  {
   "cell_type": "markdown",
   "metadata": {},
   "source": [
    "```html\n",
    "   _____                                  ______      ______\n",
    "  / ___/__  ______ ___  ____     __/|_   / ____/___  / ____/\n",
    "  \\__ \\/ / / / __ `__ \\/_  /    |    /  / /   / __ \\/ __/   \n",
    " ___/ / /_/ / / / / / / / /_   /_ __|  / /___/ /_/ / /___   \n",
    "/____/\\__,_/_/ /_/ /_/ /___/    |/     \\____/\\____/_____/     \n",
    "```"
   ]
  },
  {
   "cell_type": "markdown",
   "metadata": {},
   "source": [
    "**Table of contents**<a id='toc0_'></a>    \n",
    "- [👋 Hola, Python](#toc1_)    \n",
    "  - [Variables, Tipos de Datos y Operaciones](#toc1_1_)    \n",
    "    - [Variables](#toc1_1_1_)    \n",
    "    - [Tipos de Datos](#toc1_1_2_)    \n",
    "    - [Operaciones](#toc1_1_3_)    \n",
    "      - [Operaciones con números](#toc1_1_3_1_)    \n",
    "      - [Ejercicio - Challenge](#toc1_1_3_2_)    \n",
    "    - [Listas y Loops](#toc1_1_4_)    \n",
    "      - [Listas](#toc1_1_4_1_)    \n",
    "      - [Indexado](#toc1_1_4_2_)    \n",
    "      - [Loops](#toc1_1_4_3_)    \n",
    "    - [Ejercitación 1](#toc1_1_5_)    \n",
    "  - [Funciones y Namespaces](#toc1_2_)    \n",
    "    - [Funciones](#toc1_2_1_)    \n",
    "      - [return](#toc1_2_1_1_)    \n",
    "    - [Namespaces and Scope](#toc1_2_2_)    \n",
    "    - [Funciones Lambda (Anónimas)](#toc1_2_3_)    \n",
    "    - [Documentando funciones](#toc1_2_4_)    \n",
    "    - [Ejercitación 2](#toc1_2_5_)    \n",
    "  - [Clases y Objetos](#toc1_3_)    \n",
    "    - [Objetos](#toc1_3_1_)    \n",
    "    - [Clases](#toc1_3_2_)    \n",
    "      - [Definimos una clase](#toc1_3_2_1_)    \n",
    "    - [Métodos](#toc1_3_3_)    \n",
    "    - [Consistencia](#toc1_3_4_)    \n",
    "      - [Ejercicio - Challenge](#toc1_3_4_1_)    \n",
    "    - [Ejercitación 3](#toc1_3_5_)    \n",
    "\n",
    "<!-- vscode-jupyter-toc-config\n",
    "\tnumbering=false\n",
    "\tanchor=true\n",
    "\tflat=false\n",
    "\tminLevel=1\n",
    "\tmaxLevel=6\n",
    "\t/vscode-jupyter-toc-config -->\n",
    "<!-- THIS CELL WILL BE REPLACED ON TOC UPDATE. DO NOT WRITE YOUR TEXT IN THIS CELL -->"
   ]
  },
  {
   "cell_type": "markdown",
   "metadata": {},
   "source": [
    "# <a id='toc1_'></a>[👋 Hola, Python](#toc0_)\n",
    "\n",
    "Python es un lenguaje de programación de alto nivel, interpretado, de propósito general y orientado a objetos. Fue creado por Guido van Rossum en 1991 y actualmente es uno de los lenguajes más populares del mundo. El nombre del lenguaje proviene de la afición de su creador por los humoristas británicos Monty Python.\n",
    "\n",
    "La razón por la que Python es tan popular es porque es un lenguaje muy fácil de aprender, con una sintaxis muy sencilla y que permite escribir programas con muy pocas líneas de código. Además, es un lenguaje muy versátil, ya que se puede utilizar para desarrollar casi cualquier tipo de software: aplicaciones de escritorio, aplicaciones web, aplicaciones móviles, IoT, scripts, análisis de datos e inteligencia artificial.\n",
    "\n",
    "En este taller, vamos a aprender algunos conceptos claves de Python y cómo podemos utilizarlo para programar con estilo"
   ]
  },
  {
   "cell_type": "markdown",
   "metadata": {},
   "source": [
    "## <a id='toc1_1_'></a>[Variables, Tipos de Datos y Operaciones](#toc0_)\n",
    "\n",
    "### <a id='toc1_1_1_'></a>[Variables](#toc0_)\n",
    "\n",
    "Al crear una variable le estás poniendo un nombre a un objeto. Cada variable debe llevar un nombre a través del cual nos referimos a ella, los nombres deben ser únicos y, en lo posible, ser lo mas explícitos posibles para evitar confusiones. Usando el `=` se asigna un valor a una variable. No es un igual matemático/lógico, puedes pensarlo como una flecha (`<--`) que asigna lo que hay del lado derecho a lo que hay del lado izquierdo. Recordemos algunos ejemplos."
   ]
  },
  {
   "cell_type": "code",
   "execution_count": null,
   "metadata": {},
   "outputs": [],
   "source": [
    "# Asignamos el valor 3 a una variable que creamos, de nombre x\n",
    "x = 3\n",
    "\n",
    "# Evaluamos e imprimimos en pantalla el resultado\n",
    "print(x)"
   ]
  },
  {
   "cell_type": "code",
   "execution_count": null,
   "metadata": {},
   "outputs": [],
   "source": [
    "# Asignamos el valor 15.7 a una nueva variable, de nombre y\n",
    "y = 15.7\n",
    "\n",
    "print(y)"
   ]
  },
  {
   "cell_type": "code",
   "execution_count": null,
   "metadata": {},
   "outputs": [],
   "source": [
    "# Podemos definir una nueva variable como la suma de dos anteriores\n",
    "z = x + y\n",
    "\n",
    "print(z)"
   ]
  },
  {
   "cell_type": "markdown",
   "metadata": {},
   "source": [
    "Pero en las variables no necesariamente ponemos números, también podemos poner texto (*strings*)"
   ]
  },
  {
   "cell_type": "code",
   "execution_count": null,
   "metadata": {},
   "outputs": [],
   "source": [
    "# Se peude tambier asignar un valor de texto otra variable\n",
    "un_texto = 'HOLA!'\n",
    "\n",
    "print(un_texto)"
   ]
  },
  {
   "cell_type": "markdown",
   "metadata": {},
   "source": [
    "**Probar:** ejecutar la siguiente celda. ¿Cuál es la diferencia?"
   ]
  },
  {
   "cell_type": "code",
   "execution_count": null,
   "metadata": {},
   "outputs": [],
   "source": [
    "print(un_texto)\n",
    "print('un_texto')"
   ]
  },
  {
   "cell_type": "markdown",
   "metadata": {},
   "source": [
    "Si queremos, podemos borrar alguna variable que ya no utilizaremos más"
   ]
  },
  {
   "cell_type": "code",
   "execution_count": null,
   "metadata": {},
   "outputs": [],
   "source": [
    "del(un_texto)\n",
    "print(un_texto)"
   ]
  },
  {
   "cell_type": "markdown",
   "metadata": {},
   "source": [
    "**Nota importante**: al correr esta ultima linea, deben ver un mensaje de error. Los mensajes de error son MUY IMPORTANTES. Nos brindan información muy valiosa cuando nuestro código no funciona. En este caso, nos está avisando que no puede imprimir la variable `un_texto`, ya que la eliminamos y no está definida.\n",
    "\n",
    "Muchas veces, para resolver el error, lo mejor que podemos hacer es googlearlo."
   ]
  },
  {
   "cell_type": "markdown",
   "metadata": {},
   "source": [
    "### <a id='toc1_1_2_'></a>[Tipos de Datos](#toc0_)\n",
    "Cuando definimos una variable, dependiendo el contenido que le asignamos, la misma será de un determinado tipo. Los tipos de datos más comunes de variables son: `int`,`float`,`string` y `boolean`. Veamos algunos ejemplos de cada tipo."
   ]
  },
  {
   "cell_type": "markdown",
   "metadata": {},
   "source": [
    "### <a id='toc1_1_3_'></a>[Operaciones](#toc0_)\n",
    "Con las variables que definimos, podemos realizar distintas operaciones. Dependiendo el tipo de variable, hay diferentes operaciones diponibles. En este notebook veremos operaciones con números - `int` y `float`; más adelante veremos operaciones con texto.\n",
    "\n",
    "#### <a id='toc1_1_3_1_'></a>[Operaciones con números](#toc0_)\n",
    "\n",
    "Se pueden realizar las operaciones basicas entre numeros\n"
   ]
  },
  {
   "cell_type": "code",
   "execution_count": null,
   "metadata": {},
   "outputs": [],
   "source": [
    "a = 20\n",
    "b = 4\n",
    "print(a+b)\n",
    "print(a-b)"
   ]
  },
  {
   "cell_type": "markdown",
   "metadata": {},
   "source": [
    "Se pueden realizar las operaciones incluso entre distintos tipos de variables"
   ]
  },
  {
   "cell_type": "code",
   "execution_count": null,
   "metadata": {},
   "outputs": [],
   "source": [
    "a = 20\n",
    "b = 4.5\n",
    "\n",
    "c = a+b\n",
    "d = a-b\n",
    "\n",
    "print(c)\n",
    "print(d)"
   ]
  },
  {
   "cell_type": "markdown",
   "metadata": {},
   "source": [
    "¿De qué tipo es la variable resultante? Trata de adivinarlo antes de correr la celda siguiente."
   ]
  },
  {
   "cell_type": "code",
   "execution_count": null,
   "metadata": {},
   "outputs": [],
   "source": [
    "print(type(c))\n",
    "print(type(d))"
   ]
  },
  {
   "cell_type": "markdown",
   "metadata": {},
   "source": [
    "También podemos dividir números."
   ]
  },
  {
   "cell_type": "code",
   "execution_count": null,
   "metadata": {},
   "outputs": [],
   "source": [
    "x = 4\n",
    "y = 2\n",
    "z = x//y\n",
    "print(z)"
   ]
  },
  {
   "cell_type": "markdown",
   "metadata": {},
   "source": [
    "¿De qué tipo es la variable resultante de hacer la división? A pesar de dividir dos números enteros, el resultado es de tipo `float`. ¡Ésta es una de las diferencias entre Python 2 y Python 3."
   ]
  },
  {
   "cell_type": "code",
   "execution_count": null,
   "metadata": {},
   "outputs": [],
   "source": [
    "print(type(z))"
   ]
  },
  {
   "cell_type": "markdown",
   "metadata": {},
   "source": [
    "La siguiente operación es muy usada en computación, nos devuelve el resto de la división. ¿No recuerdas qué es el resto? Puedes investigarlo [aquí](https://www.disfrutalasmatematicas.com/numeros/division-resto.html)."
   ]
  },
  {
   "cell_type": "code",
   "execution_count": null,
   "metadata": {},
   "outputs": [],
   "source": [
    "x = 10\n",
    "y = 3\n",
    "print(x%y)\n",
    "print(type(x%y))"
   ]
  },
  {
   "cell_type": "markdown",
   "metadata": {},
   "source": [
    "**Ejercicio**: Calcular el porcentaje que representa el valor 17 sobre un total de 54 y guardarlo en una variable llamada `porcentaje`."
   ]
  },
  {
   "cell_type": "code",
   "execution_count": null,
   "metadata": {},
   "outputs": [],
   "source": [
    "# COMPLETAR\n",
    "porcentaje =  \n",
    "print(porcentaje)"
   ]
  },
  {
   "cell_type": "markdown",
   "metadata": {},
   "source": [
    "#### <a id='toc1_1_3_2_'></a>[Ejercicio - Challenge](#toc0_)\n",
    "\n",
    "Calcula la suma y multiplicación de las variables `a`, `b` y `c`. ¡Presta atención al tipo de dato!"
   ]
  },
  {
   "cell_type": "code",
   "execution_count": null,
   "metadata": {},
   "outputs": [],
   "source": [
    "a = '2'\n",
    "b = '-5.5'\n",
    "c = '7.8'\n",
    "\n",
    "# COMPLETAR\n",
    "\n"
   ]
  },
  {
   "cell_type": "markdown",
   "metadata": {},
   "source": [
    "### <a id='toc1_1_4_'></a>[Listas y Loops](#toc0_)\n",
    "\n",
    "Ya vimos los tipos de datos básicos de Python. Es hora de empezar a combinarlos.\n",
    "\n",
    "#### <a id='toc1_1_4_1_'></a>[Listas](#toc0_)\n",
    "\n",
    "Las listas un objeto central en el lenguaje Python. Están compuestas por una sucesión de objetos en un orden determinado. Se definen mediante corchetes `[]`, y los objetos dentro de ellas se separan por comas `,`. Veamos un ejemplo:"
   ]
  },
  {
   "cell_type": "code",
   "execution_count": null,
   "metadata": {},
   "outputs": [],
   "source": [
    "lista_1 = [42, 10.7, True, 'Texto']\n",
    "print(lista_1)"
   ]
  },
  {
   "cell_type": "markdown",
   "metadata": {},
   "source": [
    "**Notar** que la lista puede contener varios tipos de datos diferentes sin ningún problema.\n",
    "\n",
    "Una pregunta muy usual que uno hace cuando trabaja con listas es cuántos elementos tiene. Esto lo podemos responder con el comando `len()`"
   ]
  },
  {
   "cell_type": "code",
   "execution_count": null,
   "metadata": {},
   "outputs": [],
   "source": [
    "len(lista_1)"
   ]
  },
  {
   "cell_type": "markdown",
   "metadata": {},
   "source": [
    "#### <a id='toc1_1_4_2_'></a>[Indexado](#toc0_)\n",
    "\n",
    "Cada elemento de una lista tiene asignada una posición (*índice*) que podemos usar para inspeccionar ese elemento u operar con él. Los índices **empiezan en 0**, y se especifican poniendo corchetes con el índice dentro luego del nombre de la lista:"
   ]
  },
  {
   "cell_type": "code",
   "execution_count": null,
   "metadata": {},
   "outputs": [],
   "source": [
    "lista_2 = [5, 6.0,'Un poco de texto',-5, False, 'Más texto', True, 100]\n",
    "\n",
    "print(lista_2[0])\n",
    "print(lista_2[1])\n",
    "print(lista_2[2])"
   ]
  },
  {
   "cell_type": "markdown",
   "metadata": {},
   "source": [
    "**Ejercicio**: imprimir el séptimo elemento de `lista_2`. Asegurarte que lo hiciste bien contando los elementos de la lista."
   ]
  },
  {
   "cell_type": "code",
   "execution_count": null,
   "metadata": {},
   "outputs": [],
   "source": [
    "print()  # COMPLETAR"
   ]
  },
  {
   "cell_type": "markdown",
   "metadata": {},
   "source": [
    "También podemos seleccionar porciones de la lista, no solamente de a un elemento por vez."
   ]
  },
  {
   "cell_type": "code",
   "execution_count": null,
   "metadata": {},
   "outputs": [],
   "source": [
    "print(lista_1[0:3])\n",
    "print(lista_2[4:])\n",
    "print(lista_2[1:5:2])"
   ]
  },
  {
   "cell_type": "markdown",
   "metadata": {},
   "source": [
    "¿Cuál es la lógica que gobierna esta sintaxis? Juega un poco con ella y fíjate si logras descubrir la regla. Sino, también puedes googlear qué es *slicing*.\n",
    "\n",
    "Algo más sobre indexado. Podemos indexar *desde el final* de la lista usando números negativos."
   ]
  },
  {
   "cell_type": "code",
   "execution_count": null,
   "metadata": {},
   "outputs": [],
   "source": [
    "print(lista_2[-1])\n",
    "print(lista_2[-2])\n",
    "print(lista_2[-8])"
   ]
  },
  {
   "cell_type": "markdown",
   "metadata": {},
   "source": [
    "Veamos una cosita más. Creemos una tercera lista"
   ]
  },
  {
   "cell_type": "code",
   "execution_count": null,
   "metadata": {},
   "outputs": [],
   "source": [
    "# Definimos una segunda lista\n",
    "lista_3 = [0, lista_1, 'Mas texto', lista_2]\n",
    "print(lista_3)\n",
    "print(len(lista_3))"
   ]
  },
  {
   "cell_type": "markdown",
   "metadata": {},
   "source": [
    "Notemos que en esta tercera lista, agregamos dentro la primera y la segunda lista. Ambas listas ahora son elementos de esta tercera lista. Prestar particular atención a cuántos elementos tiene `lista_3`. ¡No importa cuántos elementos tienen `lista_1` o `lista_2`, dentro de `lista_3` solamente cuentan como uno!"
   ]
  },
  {
   "cell_type": "code",
   "execution_count": null,
   "metadata": {},
   "outputs": [],
   "source": [
    "print(lista_3[1])"
   ]
  },
  {
   "cell_type": "markdown",
   "metadata": {},
   "source": [
    "**Ejercicio:** tomando `lista_1` desde `lista_3` (lo que acabamos de hacer en la celda anterior), indexar el tercer elemento de `lista_1`. Debería darte como resultado `True`."
   ]
  },
  {
   "cell_type": "code",
   "execution_count": null,
   "metadata": {},
   "outputs": [],
   "source": [
    "# COMPLETAR\n"
   ]
  },
  {
   "cell_type": "markdown",
   "metadata": {},
   "source": [
    "**Lista Vacía y `append()`**\n",
    "\n",
    "Podemos crear listas vacias e ir agregándole elementos con el método `append()`"
   ]
  },
  {
   "cell_type": "code",
   "execution_count": null,
   "metadata": {},
   "outputs": [],
   "source": [
    "lista_vacia = []\n",
    "len(lista_vacia)"
   ]
  },
  {
   "cell_type": "code",
   "execution_count": null,
   "metadata": {},
   "outputs": [],
   "source": [
    "lista_vacia.append(42)\n",
    "lista_vacia.append('un segundo item')\n",
    "print(lista_vacia)\n",
    "print(len(lista_vacia))"
   ]
  },
  {
   "cell_type": "markdown",
   "metadata": {},
   "source": [
    "Prueba qué pasa si corren nuevamente la celda anterior (justo arriba de ésta). Notar que el método `append()` no solamente trabaja en listas vacías.\n",
    "\n",
    "**Ejercicio**: Define una lista vacia llamada `lista_nueva` y agréguele (`append()`) los elementos `a`, `b` y `c`."
   ]
  },
  {
   "cell_type": "code",
   "execution_count": null,
   "metadata": {},
   "outputs": [],
   "source": [
    "a = 8\n",
    "b = 'world'\n",
    "c = [12,24.5,66]\n",
    "\n",
    "# COMPLETAR"
   ]
  },
  {
   "cell_type": "markdown",
   "metadata": {},
   "source": [
    "**CUIDADO:** a veces queremos copiar una lista, operar sobre ella y comparar los resultados con la lista original. Sin embargo, hay que tener cuidado cuando queremos copiar listas"
   ]
  },
  {
   "cell_type": "code",
   "execution_count": null,
   "metadata": {},
   "outputs": [],
   "source": [
    "lista_1 = [1,2,3,4]\n",
    "lista_2 = lista_1  # lista_2 ahora es igual a lista_1\n",
    "lista_2[-1] = 100 # el ultimo elemento de la lista_2 ahora es 100\n",
    "print(lista_1, lista_2)"
   ]
  },
  {
   "cell_type": "markdown",
   "metadata": {},
   "source": [
    "¡Notar que se modificaron ambas listas! Esto, en general, no es lo deseado. Pero podemos hacerlo bien:"
   ]
  },
  {
   "cell_type": "code",
   "execution_count": null,
   "metadata": {},
   "outputs": [],
   "source": [
    "lista_1 = [1,2,3,4]\n",
    "lista_2 = lista_1.copy() # Prestar atención aquí\n",
    "lista_2[-1] = 100\n",
    "print(lista_1, lista_2)"
   ]
  },
  {
   "cell_type": "markdown",
   "metadata": {},
   "source": [
    "¡Ahora no! Es decir, si queremos copiar listas, debemos poner `.copy()`. Esto no solo vale para listas, sino para objetos que veremos en los próximos encuentros, como arreglos de Numpy y dataframes de Pandas."
   ]
  },
  {
   "cell_type": "markdown",
   "metadata": {},
   "source": [
    "#### <a id='toc1_1_4_3_'></a>[Loops](#toc0_)\n",
    "\n",
    "En general, cuando estamos programando, queremos repetir una operación varias veces. Por ejemplo, aplicarle una operación a los elementos de una lista. Si la lista tiene muchos elementos, puede ser engorroso escribir la aplicación de esa operacíon a cada elemento uno por uno, por lo que necesitamos alguna estructura de código que facilite esa sintaxis. \n",
    "\n",
    "Los **Loops** (bucles) son estructuras de codigo fundamentales en cualquier lenguaje de programación. Consisten en bloques de código que se repiten una cierta cantidad de veces dada una condición. Existen dos formas básicas de crear loops, las instrucciones tipo `for` y las instrucciones tipo `while`. Te vamos a contar de qué se tratan los `for`, si te interesa puedes googlear cómo funcionan los `while`.\n",
    "\n",
    "El `for` es un loop en el que un bloque de código se repite tantas veces como elementos haya en una determinada lista. En cada iteración (repetición) hay una variable que va tomando el valor de uno de los elementos en esta lista. Veamos un ejemplo:"
   ]
  },
  {
   "cell_type": "code",
   "execution_count": null,
   "metadata": {},
   "outputs": [],
   "source": [
    "lista_numeros = [3,55,1,876,12]\n",
    "for elemento in lista_numeros:\n",
    "    # Definimos el codigo dentro del for mediante la indentación\n",
    "    # (Todo lo que este corrido un 'tab' a la derecha)\n",
    "    print(elemento)"
   ]
  },
  {
   "cell_type": "markdown",
   "metadata": {},
   "source": [
    "Prestar particular atención a que el código que está \"dentro\" del `for` está **indentado**. En algunos lenguajes de programación la indentación se utiliza para ordenar el código, hacerlo más legible. En Python, en cambio, es **obligatorio**. Se logra con cuatro espacios o un tab.\n",
    "\n",
    "Repitamos los mismo que la celda anterior. pero ahora agregamos una variable `i` que cuenta la cantidad de veces que recorrimos el bucle `for` ."
   ]
  },
  {
   "cell_type": "code",
   "execution_count": null,
   "metadata": {},
   "outputs": [],
   "source": [
    "lista_numeros = [3,55,1,876,12]\n",
    "i = 0 # La iniciamos en cero\n",
    "\n",
    "for elemento in lista_numeros:    \n",
    "    i = i + 1 # Le sumamos 1 cada vez que entra\n",
    "    print(i, elemento)"
   ]
  },
  {
   "cell_type": "markdown",
   "metadata": {},
   "source": [
    "Tomarte unos minutos para entender qué hace la línea `i = i + 1`."
   ]
  },
  {
   "cell_type": "markdown",
   "metadata": {},
   "source": [
    "También podemos recorrer listas de texto. Presten atencion al siguiente codigo, e intenten precedir el resultado antes de correr la celda."
   ]
  },
  {
   "cell_type": "code",
   "execution_count": null,
   "metadata": {},
   "outputs": [],
   "source": [
    "lista_nombres = ['Ernesto', 'Camilo', 'Violeta']\n",
    "nueva_lista = []\n",
    "\n",
    "for item in lista_nombres:\n",
    "    oracion = 'Mi nombre es ' + item\n",
    "    nueva_lista.append(oracion)\n",
    "    \n",
    "# Este print esta fuera del bucle, no está indentado\n",
    "print(nueva_lista)"
   ]
  },
  {
   "cell_type": "markdown",
   "metadata": {},
   "source": [
    "Además de recorres listas con `for`, podemos hacerlo con `while`. La diferencia es que en el `for` recorremos todos los elementos de la lista, mientras que en el `while` recorremos la lista hasta que se cumpla una condición. Veamos un ejemplo:"
   ]
  },
  {
   "cell_type": "code",
   "execution_count": null,
   "metadata": {},
   "outputs": [],
   "source": [
    "lista_animales = ['perro', 'gato', 'pez', 'loro', 'tortuga']\n",
    "\n",
    "condicion = True\n",
    "for animal in lista_animales:\n",
    "    if animal == 'loro':\n",
    "        condicion = False\n",
    "    if condicion:\n",
    "        print(animal)"
   ]
  },
  {
   "cell_type": "markdown",
   "metadata": {},
   "source": [
    "Hay que tener especial cuidado con los `while`, ya que si la condición nunca se cumple, el loop se ejecutará infinitamente. Esto puede hacer que tu programa se cuelgue y no puedas hacer nada más. Por eso, es importante tener una condición de corte."
   ]
  },
  {
   "cell_type": "markdown",
   "metadata": {},
   "source": [
    "### <a id='toc1_1_5_'></a>[Ejercitación 1](#toc0_)\n",
    "\n",
    "En general, no hay una única forma de resolver los ejercicios. Lo que sí ocurre, a veces, es que hay formas más *eficientes* o *prolijas*. No debes preocuparte por eso ahora, lo importante es intentar resolverlos.\n",
    "\n",
    "**Ejercicios 1 y 2:** Si tenemos una lista de números, por ejemplo los primeros diez numeros naturales, e intentamos sumarle un número fijo a la lista, por ejemplo 3, tal vez intentemos algo parecido a lo siguiente: \n",
    "\n"
   ]
  },
  {
   "cell_type": "code",
   "execution_count": null,
   "metadata": {},
   "outputs": [],
   "source": [
    "numeros = [0, 1, 2, 3, 4, 5, 6, 7, 8, 9]\n",
    "print(numeros + 3)"
   ]
  },
  {
   "cell_type": "markdown",
   "metadata": {},
   "source": [
    "¡Nos salta un error! .\n",
    "\n",
    "Entonces, te proponemos que resuelvas los siguientes ejercicios:\n",
    "\n",
    "**Ejercicio 1:** Crear una rutina que le sume tres a los diez primeros números naturales y vaya imprimiendo en pantalla a medida que lo hace."
   ]
  },
  {
   "cell_type": "code",
   "execution_count": null,
   "metadata": {},
   "outputs": [],
   "source": [
    "# COMPLETAR"
   ]
  },
  {
   "cell_type": "markdown",
   "metadata": {},
   "source": [
    "**Ejercicio 2:** Crear una rutina que le sume tres a los diez primeros números naturales y guarde los resultados en una nueva lista. Al final, imprimir esa lista en pantalla."
   ]
  },
  {
   "cell_type": "code",
   "execution_count": null,
   "metadata": {},
   "outputs": [],
   "source": [
    "# COMPLETAR"
   ]
  },
  {
   "cell_type": "markdown",
   "metadata": {},
   "source": [
    "**Para investigar y pensar**: ¿qué ocurriría si, en lugar de querer sumarle un número a los diez primeros números naturales, quisiéramos hacerlo sobre los primeros cien?¿Y si fuera el primer millón de números naturales?¿La rutina que creaste es fácilmente adaptable? Investiga cómo podrías adaptarla. Pista: `range()`"
   ]
  },
  {
   "cell_type": "markdown",
   "metadata": {},
   "source": [
    "**Ejercicio 3**: Genere una lista llamada `numerotes` que contenga el cuadrado de cada elemento en la lista `numeritos`."
   ]
  },
  {
   "cell_type": "code",
   "execution_count": null,
   "metadata": {},
   "outputs": [],
   "source": [
    "numeritos = [3, 1, 5, 7, 12, 10, 17, 4, 22]\n",
    "# COMPLETAR"
   ]
  },
  {
   "cell_type": "markdown",
   "metadata": {},
   "source": [
    "**Ejercicio 4:** Estudiar qué ocurre si sumas,`+`, dos listas. ¿Cómo se llama esa operación?"
   ]
  },
  {
   "cell_type": "code",
   "execution_count": null,
   "metadata": {},
   "outputs": [],
   "source": [
    "lista_1 = [1,5,-8,3]\n",
    "lista_2 = [True, 'Cocodrilo que se duerme es cartera', 9, -17, 98, False]\n",
    "\n",
    "# COMPLETAR"
   ]
  },
  {
   "cell_type": "markdown",
   "metadata": {},
   "source": [
    "## <a id='toc1_2_'></a>[Funciones y Namespaces](#toc0_)\n",
    "\n",
    "\n",
    "### <a id='toc1_2_1_'></a>[Funciones](#toc0_)\n",
    "\n",
    "Una función es un bloque de código que sólo corre cuando es llamado."
   ]
  },
  {
   "cell_type": "code",
   "execution_count": null,
   "metadata": {},
   "outputs": [],
   "source": [
    "def par_o_impar(numero):\n",
    "    if numero %2 == 0:\n",
    "        print('Es par')\n",
    "    else:\n",
    "        print('Es impar')"
   ]
  },
  {
   "cell_type": "markdown",
   "metadata": {},
   "source": [
    "Notar que si ejecutamos la celda no ocurre nada apreciable. \n",
    "\n",
    "Y si llamamos a la función"
   ]
  },
  {
   "cell_type": "code",
   "execution_count": null,
   "metadata": {},
   "outputs": [],
   "source": [
    "par_o_impar"
   ]
  },
  {
   "cell_type": "markdown",
   "metadata": {},
   "source": [
    "Python nos dice, de una forma no muy clara, que se trata de una función. \n",
    "\n",
    "Las funciones se llaman con paréntesis:"
   ]
  },
  {
   "cell_type": "code",
   "execution_count": null,
   "metadata": {},
   "outputs": [],
   "source": [
    "par_o_impar(1)"
   ]
  },
  {
   "cell_type": "markdown",
   "metadata": {},
   "source": [
    "Y en este caso, arroja un error porque falta un argumento, `numero`. Las dos siguientes son equivalentes:"
   ]
  },
  {
   "cell_type": "code",
   "execution_count": null,
   "metadata": {},
   "outputs": [],
   "source": [
    "par_o_impar(numero = 9)\n",
    "par_o_impar(10)"
   ]
  },
  {
   "cell_type": "markdown",
   "metadata": {},
   "source": [
    "Al tener un solo argumento, en este caso no hay mucho lugar a confusión, pero las funciones pueden tener muchos argumentos:"
   ]
  },
  {
   "cell_type": "code",
   "execution_count": null,
   "metadata": {},
   "outputs": [],
   "source": [
    "def division(dividendo, divisor):\n",
    "    print(dividendo/divisor)"
   ]
  },
  {
   "cell_type": "markdown",
   "metadata": {},
   "source": [
    "Entonces podemos llamar a la función pasándole los argumentos en orden, o explicitando el valor de cada argumento:"
   ]
  },
  {
   "cell_type": "code",
   "execution_count": null,
   "metadata": {},
   "outputs": [],
   "source": [
    "division(4, 2)\n",
    "division(divisor=2, dividendo=4)  # Notar que asi no nos tenemos que preocupar por el orden"
   ]
  },
  {
   "cell_type": "markdown",
   "metadata": {},
   "source": [
    "También, pueden tener argumentos *por default*, que si no explicitamos, toman un valor predefinido:"
   ]
  },
  {
   "cell_type": "code",
   "execution_count": null,
   "metadata": {},
   "outputs": [],
   "source": [
    "def division(dividendo, divisor = 2):\n",
    "    print(dividendo/divisor)"
   ]
  },
  {
   "cell_type": "code",
   "execution_count": null,
   "metadata": {},
   "outputs": [],
   "source": [
    "division(9)\n",
    "division(9, 3) \n",
    "division(dividendo = 9, divisor = 3) \n",
    "division(9, divisor = 3) "
   ]
  },
  {
   "cell_type": "markdown",
   "metadata": {},
   "source": [
    "#### <a id='toc1_2_1_1_'></a>[return](#toc0_)\n",
    "\n",
    "Las funciones pueden devolver resultados"
   ]
  },
  {
   "cell_type": "code",
   "execution_count": null,
   "metadata": {},
   "outputs": [],
   "source": [
    "def division(dividendo, divisor = 2):\n",
    "    variable_auxiliar = dividendo/divisor\n",
    "    return variable_auxiliar"
   ]
  },
  {
   "cell_type": "code",
   "execution_count": null,
   "metadata": {},
   "outputs": [],
   "source": [
    "resultado_division = division(9,3)"
   ]
  },
  {
   "cell_type": "code",
   "execution_count": null,
   "metadata": {},
   "outputs": [],
   "source": [
    "print(resultado_division)"
   ]
  },
  {
   "cell_type": "markdown",
   "metadata": {},
   "source": [
    "Y, si lo necesitamos, podemos hacer que devuelvan más de un resultado"
   ]
  },
  {
   "cell_type": "code",
   "execution_count": null,
   "metadata": {},
   "outputs": [],
   "source": [
    "def division_y_producto(numero_1,numero_2):\n",
    "    div = numero_1/numero_2\n",
    "    prod = numero_1*numero_2\n",
    "    return div, prod\n",
    "\n",
    "### Son equivalentes\n",
    "# def division_y_producto(numero_1,numero_2):\n",
    "#     return numero_1/numero_2, numero_1*numero_2"
   ]
  },
  {
   "cell_type": "code",
   "execution_count": null,
   "metadata": {},
   "outputs": [],
   "source": [
    "resultados = division_y_producto(10,5)\n",
    "print(resultados) # Devuelve una tupla"
   ]
  },
  {
   "cell_type": "markdown",
   "metadata": {},
   "source": [
    "Notar la diferencia"
   ]
  },
  {
   "cell_type": "code",
   "execution_count": null,
   "metadata": {},
   "outputs": [],
   "source": [
    "resultado_1, resultado_2 = division_y_producto(10,5)\n",
    "print(resultado_1, resultado_2)"
   ]
  },
  {
   "cell_type": "markdown",
   "metadata": {},
   "source": [
    "### <a id='toc1_2_2_'></a>[Namespaces and Scope](#toc0_)\n",
    "\n",
    "Encontrar la diferencia entre las siguientes celdas:"
   ]
  },
  {
   "cell_type": "code",
   "execution_count": null,
   "metadata": {},
   "outputs": [],
   "source": [
    "def division(dividendo, divisor = 2):\n",
    "    variable_auxiliar = dividendo/divisor\n",
    "    return variable_auxiliar\n",
    "\n",
    "print(division(50))\n",
    "print(divisor)"
   ]
  },
  {
   "cell_type": "code",
   "execution_count": null,
   "metadata": {},
   "outputs": [],
   "source": [
    "divisor = 5\n",
    "def division(dividendo):\n",
    "    variable_auxiliar = dividendo/divisor\n",
    "    return variable_auxiliar\n",
    "\n",
    "print(division(50))\n",
    "print(divisor)"
   ]
  },
  {
   "cell_type": "code",
   "execution_count": null,
   "metadata": {},
   "outputs": [],
   "source": [
    "divisor = 5\n",
    "def division(dividendo, divisor = 2):\n",
    "    variable_auxiliar = dividendo/divisor\n",
    "    return variable_auxiliar\n",
    "\n",
    "print(division(50))\n",
    "print(divisor)"
   ]
  },
  {
   "cell_type": "code",
   "execution_count": null,
   "metadata": {},
   "outputs": [],
   "source": [
    "# (Deja tu respuesta dentro de las comillas triples)\n",
    "\"\"\"\n",
    "RESPUESTA: \n",
    "> \n",
    "\n",
    "\"\"\""
   ]
  },
  {
   "cell_type": "markdown",
   "metadata": {},
   "source": [
    "**Para investigar:** ¿qué es una variable global? ¿y una variable local? ¿qué es un namespace?"
   ]
  },
  {
   "cell_type": "markdown",
   "metadata": {},
   "source": [
    "### <a id='toc1_2_3_'></a>[Funciones Lambda (Anónimas)](#toc0_)\n",
    "\n",
    "Una función `lambda` es una forma conveniente de crear una función en una sola línea. También se las conoce como funciones anónimas, ya que no suelen tener nombre."
   ]
  },
  {
   "cell_type": "code",
   "execution_count": null,
   "metadata": {},
   "outputs": [],
   "source": [
    "lambda_division = lambda x,y: x/y\n",
    "lambda_division(80,10)"
   ]
  },
  {
   "cell_type": "markdown",
   "metadata": {},
   "source": [
    "Algunas características:\n",
    "1. Pueden tener cualquier cantidad de argumentos, pero solo una expresión\n",
    "1. No se les suele poner nombre como hicimos, de hecho es raro utilizarlas de esa forma.\n",
    "1. No necesitan un `return`\n",
    "1. Muy cómodas para crear funciones rápido.\n",
    "1. En general, las veras combinadas con funciones como `map()`, `filter()`, `apply()`, `applymap()`, etc.\n",
    "\n",
    "Existen algunas diferencias sutiles entre una función creada con `def` y una función lambda, pero para nuestros objetivos basta con saber que una función lambda es una forma rápida de crear funciones sencillas."
   ]
  },
  {
   "cell_type": "markdown",
   "metadata": {},
   "source": [
    "### <a id='toc1_2_4_'></a>[Documentando funciones](#toc0_)\n",
    "\n",
    "Cuando creemos funciones es conveniente documentarlas, así si volvemos meses después a nuestro código, o se lo compartimos a alguien, podemos entender qué hace sin tener que leer y entenderlo completamente. Es decir, de la misma forma que hacemos con muchas de las funciones de las librerías que venimos usando. Hay muchos formatos para documentar una función, pero en general incluyen: qué hace la función, cuales son sus argumentos, y cuáles son sus returns. A veces, también algún ejemplo mostrando cómo se usa. El grado de detalle depende del tiempo y de la complejidad de la función. Recomendamos siempre documentar las funciones, aunque sea de forma breve.\n",
    "\n",
    "Aquí un formato de documentación a modo de ejemplo. En general, se documenta en inglés, pero vamos a hacer una excepción."
   ]
  },
  {
   "cell_type": "code",
   "execution_count": null,
   "metadata": {},
   "outputs": [],
   "source": [
    "def division_y_producto(numero_1,numero_2):\n",
    "    '''\n",
    "    Dados dos numeros, devuelve su division\n",
    "    y su producto.\n",
    "    \n",
    "    Arguments:\n",
    "    numero_1 -- dividendo, primer multiplicando\n",
    "    numero_2 -- divisor, segundo multiplicando\n",
    "    \n",
    "    Returns:\n",
    "    div -- la division entre los dos numeros\n",
    "    prod -- el producto entre los dos numeros\n",
    "    '''\n",
    "    \n",
    "    div = numero_1/numero_2\n",
    "    prod = numero_1*numero_2\n",
    "    return div, prod"
   ]
  },
  {
   "cell_type": "markdown",
   "metadata": {},
   "source": [
    "Notar que si ahora ponemos `help()` de nuestra función, devuelve la documentación que creamos."
   ]
  },
  {
   "cell_type": "code",
   "execution_count": null,
   "metadata": {},
   "outputs": [],
   "source": [
    "help(division_y_producto)"
   ]
  },
  {
   "cell_type": "markdown",
   "metadata": {},
   "source": [
    "### <a id='toc1_2_5_'></a>[Ejercitación 2](#toc0_)\n",
    "\n",
    "En esta sección, vamos a profundizar en el uso de funciones y namespaces en Python. Las funciones nos permiten encapsular bloques de código para reutilizarlos, y los namespaces nos ayudan a organizar nuestras variables y funciones para evitar conflictos de nombres. Utilizaremos los conocimientos previos sobre variables, tipos de datos, loops y operaciones para resolver los siguientes ejercicios. ¡Vamos allá!"
   ]
  },
  {
   "cell_type": "markdown",
   "metadata": {},
   "source": [
    "**Ejercicio 1:** Convertidos de Temperatura\n",
    "\n",
    "Escribe una función llamada `convertir_temperatura` que convierta temperaturas entre grados Celsius y Fahrenheit. La función debe tomar dos argumentos: el valor de la temperatura y la unidad de destino ('C' para Celsius, 'F' para Fahrenheit). La función debe retornar la temperatura convertida."
   ]
  },
  {
   "cell_type": "code",
   "execution_count": null,
   "metadata": {},
   "outputs": [],
   "source": [
    "# COMPLETAR\n",
    "\n",
    "# Ejemplo de uso:\n",
    "print(convertir_temperatura(32, 'C'))  # Debería convertir 32°F a 0°C\n",
    "print(convertir_temperatura(0, 'F'))   # Debería convertir 0°C a 32°F"
   ]
  },
  {
   "cell_type": "markdown",
   "metadata": {},
   "source": [
    "**Ejercicio 2:** Contador de Palabras\n",
    "\n",
    "Crea una función llamada `contar_palabras` que reciba un texto (string) y retorne un diccionario con cada palabra única como llave y su cantidad de apariciones como valor. Para simplificar, puedes considerar que el texto no contiene signos de puntuación y todas las palabras están separadas por espacios."
   ]
  },
  {
   "cell_type": "code",
   "execution_count": null,
   "metadata": {},
   "outputs": [],
   "source": [
    "# COMPLETAR\n",
    "\n",
    "# Ejemplo de uso:\n",
    "texto = \"el perro de san roque no tiene rabo porque ramon ramirez se lo ha cortado\"\n",
    "print(contar_palabras(texto))"
   ]
  },
  {
   "cell_type": "markdown",
   "metadata": {},
   "source": [
    "**Ejercicio 3:** Función de Máximo Común Divisor (MCD)\n",
    "\n",
    "Implementa una función llamada `calcular_mcd` que tome dos números enteros y retorne su máximo común divisor utilizando el algoritmo de Euclides."
   ]
  },
  {
   "cell_type": "code",
   "execution_count": null,
   "metadata": {},
   "outputs": [],
   "source": [
    "# COMPLETAR\n",
    "\n",
    "# Ejemplo de uso:\n",
    "print(calcular_mcd(60, 48))  # Debería retornar 12"
   ]
  },
  {
   "cell_type": "markdown",
   "metadata": {},
   "source": [
    "**Ejercicio 4:** Generador de Tablas de Multiplicar\n",
    "\n",
    "Desarrolla una función llamada tabla_multiplicar que genere la tabla de multiplicar de un número dado. La función debe tomar un argumento (el número base) y debe imprimir la tabla de multiplicar de ese número del 1 al 10."
   ]
  },
  {
   "cell_type": "code",
   "execution_count": null,
   "metadata": {},
   "outputs": [],
   "source": [
    "# COMPLETAR\n",
    "\n",
    "# Ejemplo de uso:\n",
    "tabla_multiplicar(5)"
   ]
  },
  {
   "cell_type": "markdown",
   "metadata": {},
   "source": [
    "Después de completar los ejercicios, reflexiona sobre los siguientes puntos y discútelos con tus compañeros o anota tus pensamientos:\n",
    "\n",
    "1. ¿Qué diferencias notaste entre variables definidas dentro de una función y fuera de ella?\n",
    "2. ¿Cómo pueden afectar los namespaces al llamar variables que no han sido definidas dentro de una función?"
   ]
  },
  {
   "cell_type": "markdown",
   "metadata": {},
   "source": [
    "## <a id='toc1_3_'></a>[Clases y Objetos](#toc0_)"
   ]
  },
  {
   "cell_type": "markdown",
   "metadata": {},
   "source": [
    "### <a id='toc1_3_1_'></a>[Objetos](#toc0_)\n",
    "\n",
    "Python es un lenguaje de programacion orientado a objetos. Esto quiere decir que posee un tipo de variable particular llamada objeto. Un objeto es un paquete de variables y funciones que conviene tener agrupados por consistencia y comodidad."
   ]
  },
  {
   "cell_type": "markdown",
   "metadata": {},
   "source": [
    "### <a id='toc1_3_2_'></a>[Clases](#toc0_)\n",
    "Los objetos tienen una estructura, están compuestos por un conjunto determinado de variables y funciones, a los que llamamos **atributos**. \n",
    "\n",
    "Esta estructura de los objetos no se explicita en el código cada vez que definimos un objeto. En cambio, los objetos suelen crearse a partir de unas *plantillas* a las que llamamos **clases**.\n",
    "\n",
    "Las **clases** le dan la forma a los objetos, definen las variable y funciones que componen a estos objetos.\n",
    "\n",
    "\n",
    "#### <a id='toc1_3_2_1_'></a>[Definimos una clase](#toc0_)\n",
    "\n",
    "Comenzaremos por definir una clase muy simple, a la que llamaremos `Persona`. Esta clase será la plantilla a través de la cual generaremos objetos, a los que llamaremos **instancias** de esta clase. \n",
    "\n",
    "Para empezar este ejemplo, le daremos los atributos que pensamos indispensables para definir una persona: nombre y edad."
   ]
  },
  {
   "cell_type": "code",
   "execution_count": null,
   "metadata": {},
   "outputs": [],
   "source": [
    "class Persona:\n",
    "    \"\"\"\n",
    "    Esta es una clase donde se agregan todos los datos\n",
    "    respecto a una persona\n",
    "    \"\"\"\n",
    "    def __init__(self, nombre, edad):\n",
    "        # Todo lo que definamos en __init__ se corre\n",
    "        # al crear una instancia de la clase\n",
    "        self.nombre = nombre\n",
    "        self.edad = edad"
   ]
  },
  {
   "cell_type": "markdown",
   "metadata": {},
   "source": [
    "Hasta ahora no creamos un objeto, sólo definimos la forma que tendrán los objetos de la clase `Persona`. \n",
    "\n",
    "Ahora, usando esta plantilla, sí crearemos una **instancia** de la clase `Persona`, a la que llamaremos p1."
   ]
  },
  {
   "cell_type": "code",
   "execution_count": null,
   "metadata": {},
   "outputs": [],
   "source": [
    "p1 = Persona(\"Juan\", 26)\n",
    "\n",
    "print(p1.nombre)\n",
    "print(p1.edad)"
   ]
  },
  {
   "cell_type": "markdown",
   "metadata": {},
   "source": [
    "Al inspeccionar el tipo de variable, python nos avisa que p1 es un objeto perteneciente a la clase Persona:"
   ]
  },
  {
   "cell_type": "code",
   "execution_count": null,
   "metadata": {},
   "outputs": [],
   "source": [
    "type(p1)"
   ]
  },
  {
   "cell_type": "markdown",
   "metadata": {},
   "source": [
    "Los atributos de una instancia de la clase pueden modificarse como cualquier variable:"
   ]
  },
  {
   "cell_type": "code",
   "execution_count": null,
   "metadata": {},
   "outputs": [],
   "source": [
    "p1.edad = 30\n",
    "p1.edad"
   ]
  },
  {
   "cell_type": "markdown",
   "metadata": {},
   "source": [
    "**Ejercicio:** crea una clase llamada `Rectangulo`, cuyos atributos sean las variables `largo_lado_1` y `largo_lado_2`. Luego, crea una instancia de esta clase llamada `c1`, con lados de largo 10 y 20."
   ]
  },
  {
   "cell_type": "code",
   "execution_count": null,
   "metadata": {},
   "outputs": [],
   "source": [
    "class Rectangulo:\n",
    "    # COMPLETAR"
   ]
  },
  {
   "cell_type": "code",
   "execution_count": null,
   "metadata": {},
   "outputs": [],
   "source": [
    "c1 = # COMPLETAR"
   ]
  },
  {
   "cell_type": "markdown",
   "metadata": {},
   "source": [
    "### <a id='toc1_3_3_'></a>[Métodos](#toc0_)\n",
    "\n",
    "A las funciones que componen una clase las llamamos **métodos**. Estas funciones pueden llamarse poniendo el nombre de una instancia de la clase seguido de un punto y el nombre del método. Los métodos pueden actuar sobre los valores de otros atributos de esa instancia, pueden devolver algun output a traves de `return` o pueden hacer ambas cosas.\n",
    "\n",
    "Vamos a darle un método a la clase persona, para esto vamos a redefinir la clase como:"
   ]
  },
  {
   "cell_type": "code",
   "execution_count": null,
   "metadata": {},
   "outputs": [],
   "source": [
    "class Persona:\n",
    "    \"\"\"\n",
    "    Esta es una clase donde se agregan todos los datos\n",
    "    respecto a una persona\n",
    "    \"\"\"\n",
    "\n",
    "    def __init__(self, nombre, edad):\n",
    "        # Todo lo que definamos en __init__ se corre\n",
    "        # al crear una instancia de la clase\n",
    "        self.nombre = nombre\n",
    "        self.edad = edad\n",
    "\n",
    "    def mePresento(self):\n",
    "        print(\"Hola, me llamo \" + self.nombre)"
   ]
  },
  {
   "cell_type": "code",
   "execution_count": null,
   "metadata": {},
   "outputs": [],
   "source": [
    "p1 = Persona(\"Juan\", 26)\n",
    "p1.mePresento()"
   ]
  },
  {
   "cell_type": "markdown",
   "metadata": {},
   "source": [
    "Como ya dijimos, los métodos tambien pueden modificar el valor de ciertos atributos de una instancia. Vamos a crear un método para la clase persona, que haga cumplir un año a la persona y al mismo tiempo nos devuelva el valor de su edad:"
   ]
  },
  {
   "cell_type": "code",
   "execution_count": null,
   "metadata": {},
   "outputs": [],
   "source": [
    "class Persona:\n",
    "    \"\"\"\n",
    "    Esta es una clase donde se agregan todos los datos\n",
    "    respecto a una persona\n",
    "    \"\"\"\n",
    "\n",
    "    def __init__(self, nombre, edad):\n",
    "        # Todo lo que definamos en __init__ se corre\n",
    "        # al crear una instancia de la clase\n",
    "        self.nombre = nombre\n",
    "        self.edad = edad\n",
    "\n",
    "    def mePresento(self):\n",
    "        print(\"Hola, me llamo \" + self.nombre)\n",
    "\n",
    "    def cumplirAnios(self):\n",
    "        self.edad = self.edad + 1\n",
    "        # El return hace que, al ejecutar el método,\n",
    "        # el mismo devuelva el valor de la edad\n",
    "        return self.edad"
   ]
  },
  {
   "cell_type": "code",
   "execution_count": null,
   "metadata": {},
   "outputs": [],
   "source": [
    "p1 = Persona(\"Juan\", 26)\n",
    "p1.cumplirAnios()"
   ]
  },
  {
   "cell_type": "code",
   "execution_count": null,
   "metadata": {},
   "outputs": [],
   "source": [
    "p1.edad"
   ]
  },
  {
   "cell_type": "markdown",
   "metadata": {},
   "source": [
    "¿Notaron que los atributos los definimos dentro de un método llamado `__init__ `?\n",
    "\n",
    "Estos nombres de métodos con doble guión-bajo a los costados indican que se trata de un **método mágico**. Son nombres especiales que Python se reserva para métodos que tienen una función específica. Por ejemplo, el método mágico `__init__` se correrá automáticamente cuando creemos una instancia de la clase.\n",
    "\n",
    "Veamos un ejemplo donde dentro del método `__init__` agregamos algún otro bloque de código:"
   ]
  },
  {
   "cell_type": "code",
   "execution_count": null,
   "metadata": {},
   "outputs": [],
   "source": [
    "class Persona:\n",
    "    \"\"\"\n",
    "    Esta es una clase donde se agregan todos los datos\n",
    "    respecto a una persona\n",
    "    \"\"\"\n",
    "\n",
    "    def __init__(self, nombre, edad):\n",
    "        # Todo lo que definamos en __init__ se corre\n",
    "        # al crear una instancia de la clase\n",
    "        self.nombre = nombre\n",
    "        self.edad = edad\n",
    "\n",
    "        print('Una persona nueva ha sido creada!')\n",
    "\n",
    "    def mePresento(self):\n",
    "        print(\"Hola, me llamo \" + self.nombre)\n",
    "\n",
    "    def cumplirAnios(self):\n",
    "        self.edad = self.edad + 1\n",
    "        # El return hace que, al ejecutar el método,\n",
    "        # el mismo devuelva el valor de la edad\n",
    "        return self.edad"
   ]
  },
  {
   "cell_type": "code",
   "execution_count": null,
   "metadata": {},
   "outputs": [],
   "source": [
    "p1 = Persona(\"Ernesto\", 40)"
   ]
  },
  {
   "cell_type": "markdown",
   "metadata": {},
   "source": [
    "### <a id='toc1_3_4_'></a>[Consistencia](#toc0_)\n",
    "\n",
    "Uno de los beneficios de trabajar con clases es el hecho de poder chequear la consistencia de los distintos atributos pertenecientes a una misma instancia de esa clase. \n",
    "\n",
    "Supongamos que tenemos una clase llamada `Departamento`. Esta clase agrupa todos las variables relacionadas a un mismo departamento. Esto nos permite chequear que todas estas variables guarden una relación adecuada. \n",
    "\n",
    "Por ejemplo, sabemos que la superficie cubierta no puede ser mayor a la superficie total. Entonces: "
   ]
  },
  {
   "cell_type": "code",
   "execution_count": null,
   "metadata": {},
   "outputs": [],
   "source": [
    "class Departamento:\n",
    "    def __init__(self, calle, altura, piso, sup_total, sup_cubierta):\n",
    "        self.calle = calle\n",
    "        self.altura = altura\n",
    "        self.piso = piso\n",
    "        self.sup_total = sup_total\n",
    "        if sup_cubierta < sup_total:\n",
    "            self.sup_cubierta = self.sup_cubierta\n",
    "        else:\n",
    "            print(\"El valor de superficie cubierta ingresado es inconsistente\")\n",
    "            self.sup_cubierta = self.sup_total"
   ]
  },
  {
   "cell_type": "code",
   "execution_count": null,
   "metadata": {},
   "outputs": [],
   "source": [
    "depto_1 = Departamento('Humboldt', 1122, 4, 50, 455)"
   ]
  },
  {
   "cell_type": "code",
   "execution_count": null,
   "metadata": {},
   "outputs": [],
   "source": [
    "depto_1.sup_cubierta"
   ]
  },
  {
   "cell_type": "markdown",
   "metadata": {},
   "source": [
    "Otro de los beneficios de trabajar con objetos consiste en tener todas las variables relevantes agrupadas en un mismo objeto. De esta forma se nos facilita la tarea a la hora de mover esta información. \n",
    "\n",
    "Por ejemplo, si tenemos una función que calcula el precio de un departamento en base a distintas propiedades del mismo, sería mucho más fácil para nosotros pasarle a esa función un único argumento (el objeto departameto), y no cada uno de sus atributos:"
   ]
  },
  {
   "cell_type": "code",
   "execution_count": null,
   "metadata": {},
   "outputs": [],
   "source": [
    "def CalculaPrecios(depto):\n",
    "    precio = 2000 * depto.sup_total + 500 * depto.piso\n",
    "    return precio"
   ]
  },
  {
   "cell_type": "code",
   "execution_count": null,
   "metadata": {},
   "outputs": [],
   "source": [
    "CalculaPrecios(depto_1)"
   ]
  },
  {
   "cell_type": "markdown",
   "metadata": {},
   "source": [
    "En algunas circunstancias, esa función podría ser parte de la clase, siendo en ese caso un método."
   ]
  },
  {
   "cell_type": "markdown",
   "metadata": {},
   "source": [
    "#### <a id='toc1_3_4_1_'></a>[Ejercicio - Challenge](#toc0_)\n",
    "- Agregar a la clase llamada `Rectangulo` un método llamado `ladoMasLargo` que devuelva el valor del lado mas largo.\n",
    "  \n",
    "- Agregue en el `__init__` de `Rectangulo` un nuevo atributo de la clase llamado `area`. El valor de este atributo debe generarse automáticamente a partir de los valores de los lados (recuerde que el área de un rectangulo se calcula multiplicando el largo de sus lados).\n",
    "  \n",
    "- Crea una instancia de la clase y verifica que tu código funcione adecuadamente"
   ]
  },
  {
   "cell_type": "code",
   "execution_count": null,
   "metadata": {},
   "outputs": [],
   "source": [
    "class Rectangulo:\n",
    "    def __init__(self, largo_lado_1, largo_lado_2):\n",
    "        self.largo_lado_1 = largo_lado_1\n",
    "        self.largo_lado_2 = largo_lado_2\n",
    "        \n",
    "    # COMPLETAR"
   ]
  },
  {
   "cell_type": "code",
   "execution_count": null,
   "metadata": {},
   "outputs": [],
   "source": [
    "# COMPLETAR"
   ]
  },
  {
   "cell_type": "markdown",
   "metadata": {},
   "source": [
    "### <a id='toc1_3_5_'></a>[Ejercitación 3](#toc0_)\n",
    "\n",
    "Vamos a realizar varios ejercicios para reforzar el aprendizaje de la programación orientada a objetos en Python. Estos ejercicios están diseñados para que apliques lo aprendido y explores más sobre cómo modelar el mundo real en código."
   ]
  },
  {
   "cell_type": "markdown",
   "metadata": {},
   "source": [
    "**Ejercicio 1: Circulo**\n",
    "\n",
    "Define una clase Círculo que modele un círculo a partir de su radio. Incluye:\n",
    "\n",
    "- Un método __init__ que tome el valor del radio.\n",
    "- Un método área que calcule y retorne el área del círculo.\n",
    "- Un método perímetro que calcule y retorne el perímetro del círculo."
   ]
  },
  {
   "cell_type": "code",
   "execution_count": null,
   "metadata": {},
   "outputs": [],
   "source": [
    "# COMPLETAR"
   ]
  },
  {
   "cell_type": "code",
   "execution_count": null,
   "metadata": {},
   "outputs": [],
   "source": [
    "# Prueba de funcionamiento\n",
    "circulo = Circulo(radio=3)\n",
    "area = circulo.area() # Debería devolver 28.27\n",
    "perimetro = circulo.perimetro() # Debería devolver 18.85\n",
    "\n",
    "print(\n",
    "    \"Un circulo de radio\", circulo.radio, \n",
    "    \"tiene un area de\", area, \n",
    "    \"y un perimetro de\", perimetro\n",
    ")"
   ]
  },
  {
   "cell_type": "markdown",
   "metadata": {},
   "source": [
    "**Ejercicio 2: Cuenta Bancaria**\n",
    "\n",
    "Crea una clase CuentaBancaria que modele el comportamiento de una cuenta bancaria, permitiendo:\n",
    "\n",
    "- Depositar dinero.\n",
    "- Retirar dinero, sin permitir un saldo negativo.\n",
    "- Consultar el saldo actual de la cuenta.\n"
   ]
  },
  {
   "cell_type": "code",
   "execution_count": null,
   "metadata": {},
   "outputs": [],
   "source": [
    "# COMPLETAR"
   ]
  },
  {
   "cell_type": "code",
   "execution_count": null,
   "metadata": {},
   "outputs": [],
   "source": [
    "# Prueba de funcionamiento\n",
    "cuenta = CuentaBancaria(saldo=1000)\n",
    "\n",
    "cuenta.depositar(500) # El saldo debería quedar en 1500\n",
    "cuenta.extraer(2000) # Lanza una advertencia y el saldo debería mantenerse\n",
    "cuenta.extraer(700)\n",
    "\n",
    "print(cuenta.consultar_saldo()) # Debería imprimir 800"
   ]
  },
  {
   "cell_type": "markdown",
   "metadata": {},
   "source": [
    "**Ejercicio 3: Libro**\n",
    "\n",
    "Desarrolla una clase `Libro` con los siguientes atributos y métodos:\n",
    "\n",
    "- Atributos: título, autor, precio.\n",
    "- Métodos:\n",
    "  - `__init__`: para inicializar los atributos.\n",
    "  - `aplicar_descuento`: que reciba un porcentaje de descuento y lo aplique al precio del libro."
   ]
  },
  {
   "cell_type": "code",
   "execution_count": null,
   "metadata": {},
   "outputs": [],
   "source": [
    "# COMPLETAR"
   ]
  },
  {
   "cell_type": "code",
   "execution_count": null,
   "metadata": {},
   "outputs": [],
   "source": [
    "# Prueba de funcionamiento\n",
    "libro_1 = Libro('El principito', 'Antoine de Saint-Exupéry', 55.5)\n",
    "print(libro_1.titulo)\n",
    "\n",
    "libro_1.aplicar_descuento(10)\n",
    "print(\"Nuevo precio: \", libro_1.precio) # Debería imprimir 49.95"
   ]
  },
  {
   "cell_type": "markdown",
   "metadata": {},
   "source": [
    "**Ejercicio 4: Sistema de Evaluación**\n",
    "\n",
    "Implementa una clase `Estudiante` que incluya:\n",
    "\n",
    "- Atributos: nombre, lista de calificaciones (usando una lista).\n",
    "- Métodos:\n",
    "    - `añadir_calificación`: para añadir una nueva calificación a la lista.\n",
    "    - `promedio_calificaciones`: que calcule y retorne el promedio de las calificaciones."
   ]
  },
  {
   "cell_type": "code",
   "execution_count": null,
   "metadata": {},
   "outputs": [],
   "source": [
    "# COMPLETAR"
   ]
  },
  {
   "cell_type": "code",
   "execution_count": null,
   "metadata": {},
   "outputs": [],
   "source": [
    "# Prueba de funcionamiento\n",
    "estudiante = Estudiante('Juan', [8, 6, 7, 9])\n",
    "estudiante.anadir_calificacion(10)\n",
    "print(estudiante.promedio_calificaciones()) # Debería imprimir 8.0"
   ]
  },
  {
   "cell_type": "markdown",
   "metadata": {},
   "source": [
    "¡Felicitaciones! 🎉🎉🎉 \n",
    "\n",
    "Has completado el taller y ahora estás list@ para comenzar a trabajar con Python. \n",
    "\n",
    "¡Bienvenid@ al mundo de la programación! 🐍🧑🏽‍💻\n",
    "\n"
   ]
  }
 ],
 "metadata": {
  "kernelspec": {
   "display_name": "Python 3",
   "language": "python",
   "name": "python3"
  },
  "language_info": {
   "codemirror_mode": {
    "name": "ipython",
    "version": 3
   },
   "file_extension": ".py",
   "mimetype": "text/x-python",
   "name": "python",
   "nbconvert_exporter": "python",
   "pygments_lexer": "ipython3",
   "version": "3.10.13"
  }
 },
 "nbformat": 4,
 "nbformat_minor": 2
}
